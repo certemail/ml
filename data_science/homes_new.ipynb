{
 "cells": [
  {
   "cell_type": "code",
   "execution_count": 158,
   "metadata": {},
   "outputs": [],
   "source": [
    "import pandas as pd\n",
    "import numpy as np"
   ]
  },
  {
   "cell_type": "code",
   "execution_count": 159,
   "metadata": {},
   "outputs": [],
   "source": [
    "pd.set_option('display.max_rows', 700)\n",
    "pd.set_option('display.max_columns', 700)\n",
    "pd.set_option('display.width', 450)"
   ]
  },
  {
   "cell_type": "code",
   "execution_count": 160,
   "metadata": {},
   "outputs": [],
   "source": [
    "def get_start_stop_indices_state(df):\n",
    "    state_idxs = df['STATE'].str.findall(r'\\w\\w')\n",
    "\n",
    "    # build list of start and stop indices for states\n",
    "    state_start_end_indices = []\n",
    "    for s in state_idxs.items():\n",
    "        if s[1]:\n",
    "            state_start_end_indices.append(s[0])\n",
    "\n",
    "    # create list of (start,end) tuples\n",
    "    l_of_start_end_tuples = []\n",
    "    for i in range(len(state_start_end_indices)-1):\n",
    "        l_of_start_end_tuples.append((state_start_end_indices[i], state_start_end_indices[i+1]))\n",
    "        \n",
    "    # need to account for last index of state and add last tuple\n",
    "    l_of_start_end_tuples.append((l_of_start_end_tuples[-1][1],len(state_idxs)-1))\n",
    "    \n",
    "    return l_of_start_end_tuples  "
   ]
  },
  {
   "cell_type": "code",
   "execution_count": 161,
   "metadata": {},
   "outputs": [],
   "source": [
    "def get_start_stop_indices_counties_in_state(state_df):\n",
    "    cty_idxs = state_df['County_name'].str.findall(r'(\\w+\\s?\\w.*)')\n",
    "    #print(cty_idxs)\n",
    "    \n",
    "    n_total_rows_for_all_counties = len(list(cty_idxs))\n",
    "    #print(\"n_total_rows_for_all_counties:\", n_total_rows_for_all_counties)\n",
    "    \n",
    "    cty_start_end_indices = []\n",
    "    for c in cty_idxs.items():\n",
    "        if c[1]:\n",
    "            cty_start_end_indices.append(c[0])\n",
    "\n",
    "    n_counties = len(cty_start_end_indices)\n",
    "\n",
    "    # create list of (start,end) tuples\n",
    "    l_of_start_end_tuples = []\n",
    "    for i in range(n_counties-1):    \n",
    "        l_of_start_end_tuples.append((cty_start_end_indices[i], cty_start_end_indices[i+1]))\n",
    "\n",
    "    l_of_start_end_tuples.append( (l_of_start_end_tuples[-1][1], n_total_rows_for_all_counties) )\n",
    "\n",
    "    return l_of_start_end_tuples "
   ]
  },
  {
   "cell_type": "code",
   "execution_count": 162,
   "metadata": {},
   "outputs": [],
   "source": [
    "df = pd.read_csv(\"data/homes_example.csv\")\n",
    "df = df.replace(np.nan, '', regex=True)\n",
    "#df"
   ]
  },
  {
   "cell_type": "code",
   "execution_count": 163,
   "metadata": {},
   "outputs": [],
   "source": [
    "def add_new_columns(state_df):\n",
    "\n",
    "    #state_df['r1'] = ''\n",
    "    #state_df['r3'] = ''\n",
    "    state_df['rel'] = ''\n",
    "    return state_df"
   ]
  },
  {
   "cell_type": "code",
   "execution_count": 164,
   "metadata": {},
   "outputs": [],
   "source": [
    "def process_county(county_df):\n",
    "    # check if rating of 1 or 2 does not exist first\n",
    "    ratings = county_df['Comp5star']\n",
    "    r = ratings[ratings != '']\n",
    "    #print(\"ratings:\\n\",r)\n",
    "    \n",
    "    if (1 not in r.values) and (2 not in r.values):\n",
    "        print(\"NO 1 and NO 2\")\n",
    "        county_df.loc[0:0,'rel'] = 'N/A'\n",
    "       \n",
    "    return county_df"
   ]
  },
  {
   "cell_type": "code",
   "execution_count": 165,
   "metadata": {},
   "outputs": [
    {
     "name": "stdout",
     "output_type": "stream",
     "text": [
      "state start-end indicies: [(0, 4), (4, 10), (10, 18), (18, 21)]\n",
      "\n",
      "////////////////////////////////////////////////////////////////////////////////////////////\n",
      "\n",
      "  STATE           County_name Comp5star  PROVNUM PROVNAME  Sum of MDScensus_avg  Sum of Beds_Avail  Count of FACID rel\n",
      "0    AK             Anchorage         4    25018        A                    10                 16               1    \n",
      "1                                     5    25025        B                    11                 17               1    \n",
      "2                                          25036        C                    12                 18               1    \n",
      "3        Fairbanks North Star         3    25020        D                    13                 19               1    \n",
      "============================================================================================\n",
      "\n",
      "NO 1 and NO 2\n",
      "  STATE County_name Comp5star  PROVNUM PROVNAME  Sum of MDScensus_avg  Sum of Beds_Avail  Count of FACID  rel\n",
      "0    AK   Anchorage         4    25018        A                    10                 16               1  N/A\n",
      "1                           5    25025        B                    11                 17               1     \n",
      "2                                25036        C                    12                 18               1     \n",
      "-----------------------------------------------------------------------------------------\n",
      "\n",
      "NO 1 and NO 2\n",
      "  STATE           County_name Comp5star  PROVNUM PROVNAME  Sum of MDScensus_avg  Sum of Beds_Avail  Count of FACID  rel\n",
      "0        Fairbanks North Star         3    25020        D                    13                 19               1  N/A\n",
      "-----------------------------------------------------------------------------------------\n",
      "\n",
      "////////////////////////////////////////////////////////////////////////////////////////////\n",
      "\n",
      "  STATE County_name Comp5star  PROVNUM PROVNAME  Sum of MDScensus_avg  Sum of Beds_Avail  Count of FACID rel\n",
      "0    WY     Laramie         1   535013        E                    17                 28               1    \n",
      "1                               535025        F                    19                 77               1    \n",
      "2                           5   535032        G                    21                 14               1    \n",
      "3                               535044        H                    23                 56               1    \n",
      "4           Natrona         4   535024        K                    45                 56               1    \n",
      "5                               535049        L                    93                 26               1    \n",
      "============================================================================================\n",
      "\n",
      "  STATE County_name Comp5star  PROVNUM PROVNAME  Sum of MDScensus_avg  Sum of Beds_Avail  Count of FACID rel\n",
      "0    WY     Laramie         1   535013        E                    17                 28               1    \n",
      "1                               535025        F                    19                 77               1    \n",
      "2                           5   535032        G                    21                 14               1    \n",
      "3                               535044        H                    23                 56               1    \n",
      "-----------------------------------------------------------------------------------------\n",
      "\n",
      "NO 1 and NO 2\n",
      "  STATE County_name Comp5star  PROVNUM PROVNAME  Sum of MDScensus_avg  Sum of Beds_Avail  Count of FACID  rel\n",
      "0           Natrona         4   535024        K                    45                 56               1  N/A\n",
      "1                               535049        L                    93                 26               1     \n",
      "-----------------------------------------------------------------------------------------\n",
      "\n",
      "////////////////////////////////////////////////////////////////////////////////////////////\n",
      "\n",
      "  STATE County_name Comp5star  PROVNUM PROVNAME  Sum of MDScensus_avg  Sum of Beds_Avail  Count of FACID rel\n",
      "0    VT  Chittenden         1   475030        X                   123                 56               1    \n",
      "1                           2   475014        Y                    45                 12               1    \n",
      "2                           3   475040        Z                    44                 57               1    \n",
      "3                           4   475003       AA                    33                 12               1    \n",
      "4                           5   475056       BB                    22                  3               1    \n",
      "5          Franklin         2   475021       CC                    77                 33               1    \n",
      "6                           5   475047       DD                    88                 55               1    \n",
      "7                               475055       EE                    55                 66               1    \n",
      "============================================================================================\n",
      "\n",
      "  STATE County_name Comp5star  PROVNUM PROVNAME  Sum of MDScensus_avg  Sum of Beds_Avail  Count of FACID rel\n",
      "0    VT  Chittenden         1   475030        X                   123                 56               1    \n",
      "1                           2   475014        Y                    45                 12               1    \n",
      "2                           3   475040        Z                    44                 57               1    \n",
      "3                           4   475003       AA                    33                 12               1    \n",
      "4                           5   475056       BB                    22                  3               1    \n",
      "-----------------------------------------------------------------------------------------\n",
      "\n",
      "  STATE County_name Comp5star  PROVNUM PROVNAME  Sum of MDScensus_avg  Sum of Beds_Avail  Count of FACID rel\n",
      "0          Franklin         2   475021       CC                    77                 33               1    \n",
      "1                           5   475047       DD                    88                 55               1    \n",
      "2                               475055       EE                    55                 66               1    \n",
      "-----------------------------------------------------------------------------------------\n",
      "\n",
      "////////////////////////////////////////////////////////////////////////////////////////////\n",
      "\n",
      "  STATE County_name Comp5star  PROVNUM PROVNAME  Sum of MDScensus_avg  Sum of Beds_Avail  Count of FACID rel\n",
      "0    ZZ    Newstate         4   666666       FF                    10                 16               1    \n",
      "1                           5   777777       GG                    11                 17               1    \n",
      "2                               888888       HH                    12                 18               1    \n",
      "============================================================================================\n",
      "\n"
     ]
    },
    {
     "ename": "IndexError",
     "evalue": "list index out of range",
     "output_type": "error",
     "traceback": [
      "\u001b[0;31m---------------------------------------------------------------------------\u001b[0m",
      "\u001b[0;31mIndexError\u001b[0m                                Traceback (most recent call last)",
      "\u001b[0;32m<ipython-input-165-d79c2b8a1e67>\u001b[0m in \u001b[0;36m<module>\u001b[0;34m\u001b[0m\n\u001b[1;32m     12\u001b[0m     \u001b[0mprint\u001b[0m\u001b[0;34m(\u001b[0m\u001b[0;34m\"============================================================================================\\n\"\u001b[0m\u001b[0;34m)\u001b[0m\u001b[0;34m\u001b[0m\u001b[0;34m\u001b[0m\u001b[0m\n\u001b[1;32m     13\u001b[0m \u001b[0;34m\u001b[0m\u001b[0m\n\u001b[0;32m---> 14\u001b[0;31m     \u001b[0mcounties_idxs\u001b[0m \u001b[0;34m=\u001b[0m \u001b[0mget_start_stop_indices_counties_in_state\u001b[0m\u001b[0;34m(\u001b[0m\u001b[0mstate_df\u001b[0m\u001b[0;34m)\u001b[0m\u001b[0;34m\u001b[0m\u001b[0;34m\u001b[0m\u001b[0m\n\u001b[0m\u001b[1;32m     15\u001b[0m     \u001b[0;31m#print(\"\\tcounty start-end indicies:\", counties_idxs)\u001b[0m\u001b[0;34m\u001b[0m\u001b[0;34m\u001b[0m\u001b[0;34m\u001b[0m\u001b[0m\n\u001b[1;32m     16\u001b[0m     \u001b[0;32mfor\u001b[0m \u001b[0midx\u001b[0m \u001b[0;32min\u001b[0m \u001b[0mcounties_idxs\u001b[0m\u001b[0;34m:\u001b[0m\u001b[0;34m\u001b[0m\u001b[0;34m\u001b[0m\u001b[0m\n",
      "\u001b[0;32m<ipython-input-161-bc30532d042a>\u001b[0m in \u001b[0;36mget_start_stop_indices_counties_in_state\u001b[0;34m(state_df)\u001b[0m\n\u001b[1;32m     18\u001b[0m         \u001b[0ml_of_start_end_tuples\u001b[0m\u001b[0;34m.\u001b[0m\u001b[0mappend\u001b[0m\u001b[0;34m(\u001b[0m\u001b[0;34m(\u001b[0m\u001b[0mcty_start_end_indices\u001b[0m\u001b[0;34m[\u001b[0m\u001b[0mi\u001b[0m\u001b[0;34m]\u001b[0m\u001b[0;34m,\u001b[0m \u001b[0mcty_start_end_indices\u001b[0m\u001b[0;34m[\u001b[0m\u001b[0mi\u001b[0m\u001b[0;34m+\u001b[0m\u001b[0;36m1\u001b[0m\u001b[0;34m]\u001b[0m\u001b[0;34m)\u001b[0m\u001b[0;34m)\u001b[0m\u001b[0;34m\u001b[0m\u001b[0;34m\u001b[0m\u001b[0m\n\u001b[1;32m     19\u001b[0m \u001b[0;34m\u001b[0m\u001b[0m\n\u001b[0;32m---> 20\u001b[0;31m     \u001b[0ml_of_start_end_tuples\u001b[0m\u001b[0;34m.\u001b[0m\u001b[0mappend\u001b[0m\u001b[0;34m(\u001b[0m \u001b[0;34m(\u001b[0m\u001b[0ml_of_start_end_tuples\u001b[0m\u001b[0;34m[\u001b[0m\u001b[0;34m-\u001b[0m\u001b[0;36m1\u001b[0m\u001b[0;34m]\u001b[0m\u001b[0;34m[\u001b[0m\u001b[0;36m1\u001b[0m\u001b[0;34m]\u001b[0m\u001b[0;34m,\u001b[0m \u001b[0mn_total_rows_for_all_counties\u001b[0m\u001b[0;34m)\u001b[0m \u001b[0;34m)\u001b[0m\u001b[0;34m\u001b[0m\u001b[0;34m\u001b[0m\u001b[0m\n\u001b[0m\u001b[1;32m     21\u001b[0m \u001b[0;34m\u001b[0m\u001b[0m\n\u001b[1;32m     22\u001b[0m     \u001b[0;32mreturn\u001b[0m \u001b[0ml_of_start_end_tuples\u001b[0m\u001b[0;34m\u001b[0m\u001b[0;34m\u001b[0m\u001b[0m\n",
      "\u001b[0;31mIndexError\u001b[0m: list index out of range"
     ]
    }
   ],
   "source": [
    "state_idxs = get_start_stop_indices_state(df)\n",
    "print(\"state start-end indicies:\",state_idxs)\n",
    "print()\n",
    "\n",
    "for idx in state_idxs:\n",
    "    start = idx[0]\n",
    "    end   = idx[1]\n",
    "    print(\"////////////////////////////////////////////////////////////////////////////////////////////\\n\")\n",
    "    state_df = (df[start:end]).reset_index(drop=True)\n",
    "    state_df = add_new_columns(state_df)\n",
    "    print(state_df)\n",
    "    print(\"============================================================================================\\n\")\n",
    "    \n",
    "    counties_idxs = get_start_stop_indices_counties_in_state(state_df)\n",
    "    #print(\"\\tcounty start-end indicies:\", counties_idxs)\n",
    "    for idx in counties_idxs:\n",
    "        start  = idx[0]\n",
    "        end    = idx[1]\n",
    "        county_df = (state_df[start:end]).reset_index(drop=True)\n",
    "        county = process_county(county_df)\n",
    "        print(county)\n",
    "        print(\"-----------------------------------------------------------------------------------------\\n\")\n",
    "\n",
    "    \n",
    "\n",
    "    "
   ]
  },
  {
   "cell_type": "code",
   "execution_count": null,
   "metadata": {},
   "outputs": [],
   "source": []
  },
  {
   "cell_type": "code",
   "execution_count": null,
   "metadata": {},
   "outputs": [],
   "source": []
  },
  {
   "cell_type": "code",
   "execution_count": null,
   "metadata": {},
   "outputs": [],
   "source": []
  },
  {
   "cell_type": "code",
   "execution_count": null,
   "metadata": {},
   "outputs": [],
   "source": []
  }
 ],
 "metadata": {
  "kernelspec": {
   "display_name": "Python 3",
   "language": "python",
   "name": "python3"
  },
  "language_info": {
   "codemirror_mode": {
    "name": "ipython",
    "version": 3
   },
   "file_extension": ".py",
   "mimetype": "text/x-python",
   "name": "python",
   "nbconvert_exporter": "python",
   "pygments_lexer": "ipython3",
   "version": "3.7.4"
  }
 },
 "nbformat": 4,
 "nbformat_minor": 2
}
