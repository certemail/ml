{
 "cells": [
  {
   "cell_type": "code",
   "execution_count": 60,
   "metadata": {
    "collapsed": true
   },
   "outputs": [],
   "source": [
    "import pandas as pd\n",
    "import numpy as np"
   ]
  },
  {
   "cell_type": "code",
   "execution_count": 61,
   "metadata": {
    "collapsed": true
   },
   "outputs": [],
   "source": [
    "pd.set_option('display.max_rows', 500)\n",
    "pd.set_option('display.max_columns', 500)\n",
    "pd.set_option('display.width', 150)"
   ]
  },
  {
   "cell_type": "code",
   "execution_count": 99,
   "metadata": {
    "collapsed": true
   },
   "outputs": [],
   "source": [
    "def process_state(df):\n",
    "    num_rows_in_state = df.shape[0]\n",
    "    print(\"num_rows_in_state =\",num_rows_in_state)\n",
    "    print(df)\n",
    "    print(\"------------------------------------------------------------------------------------------\")"
   ]
  },
  {
   "cell_type": "code",
   "execution_count": 100,
   "metadata": {
    "collapsed": false
   },
   "outputs": [],
   "source": [
    "df = pd.read_csv(\"data/homes_example.csv\")\n",
    "df = df.replace(np.nan, '', regex=True)\n",
    "# df"
   ]
  },
  {
   "cell_type": "code",
   "execution_count": 101,
   "metadata": {
    "collapsed": false
   },
   "outputs": [],
   "source": [
    "state_idxs = df['STATE'].str.findall(r'\\w\\w')"
   ]
  },
  {
   "cell_type": "code",
   "execution_count": 102,
   "metadata": {
    "collapsed": false
   },
   "outputs": [
    {
     "name": "stdout",
     "output_type": "stream",
     "text": [
      "num_rows_in_state = 4\n",
      "  STATE           County_name Comp5star  PROVNUM PROVNAME  Sum of MDScensus_avg  Sum of Beds_Avail  Count of FACID\n",
      "0    AK             Anchorage         4    25018        A                    10                 16               1\n",
      "1                                     5    25025        B                    11                 17               1\n",
      "2                                          25036        C                    12                 18               1\n",
      "3        Fairbanks North Star         3    25020        D                    13                 19               1\n",
      "------------------------------------------------------------------------------------------\n",
      "num_rows_in_state = 6\n",
      "  STATE County_name Comp5star  PROVNUM PROVNAME  Sum of MDScensus_avg  Sum of Beds_Avail  Count of FACID\n",
      "4    WY     Laramie         1   535013        E                    17                 28               1\n",
      "5                               535025        F                    19                 77               1\n",
      "6                           5   535032        G                    21                 14               1\n",
      "7                               535044        H                    23                 56               1\n",
      "8           Natrona         4   535024        K                    45                 56               1\n",
      "9                               535049        L                    93                 26               1\n",
      "------------------------------------------------------------------------------------------\n",
      "num_rows_in_state = 8\n",
      "   STATE County_name Comp5star  PROVNUM PROVNAME  Sum of MDScensus_avg  Sum of Beds_Avail  Count of FACID\n",
      "10    VT  Chittenden         1   475030        X                   123                 56               1\n",
      "11                           2   475014        Y                    45                 12               1\n",
      "12                           3   475040        Z                    44                 57               1\n",
      "13                           4   475003       AA                    33                 12               1\n",
      "14                           5   475056       BB                    22                  3               1\n",
      "15          Franklin         2   475021       CC                    77                 33               1\n",
      "16                           5   475047       DD                    88                 55               1\n",
      "17                               475055       EE                    55                 66               1\n",
      "------------------------------------------------------------------------------------------\n"
     ]
    }
   ],
   "source": [
    "# build list of start and stop indices for states\n",
    "state_start_end_indices = []\n",
    "for s in state_idxs.items():\n",
    "    if s[1]:\n",
    "        state_start_end_indices.append(s[0])\n",
    "state_start_end_indices\n",
    "\n",
    "# process each state\n",
    "for i in range(len(state_start_end_indices)-1):\n",
    "    process_state(df[state_start_end_indices[i]:state_start_end_indices[i+1]])    "
   ]
  },
  {
   "cell_type": "code",
   "execution_count": null,
   "metadata": {
    "collapsed": false
   },
   "outputs": [],
   "source": [
    "\n",
    "\n",
    "\n"
   ]
  },
  {
   "cell_type": "code",
   "execution_count": null,
   "metadata": {
    "collapsed": true
   },
   "outputs": [],
   "source": []
  }
 ],
 "metadata": {
  "kernelspec": {
   "display_name": "Python 3",
   "language": "python",
   "name": "python3"
  },
  "language_info": {
   "codemirror_mode": {
    "name": "ipython",
    "version": 3
   },
   "file_extension": ".py",
   "mimetype": "text/x-python",
   "name": "python",
   "nbconvert_exporter": "python",
   "pygments_lexer": "ipython3",
   "version": "3.6.0"
  }
 },
 "nbformat": 4,
 "nbformat_minor": 2
}
