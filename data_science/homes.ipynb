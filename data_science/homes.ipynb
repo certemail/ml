{
 "cells": [
  {
   "cell_type": "code",
   "execution_count": 349,
   "metadata": {
    "collapsed": true
   },
   "outputs": [],
   "source": [
    "import pandas as pd\n",
    "import numpy as np"
   ]
  },
  {
   "cell_type": "code",
   "execution_count": 350,
   "metadata": {
    "collapsed": false
   },
   "outputs": [],
   "source": [
    "def process_county(df):\n",
    "    cty = df['county'].iloc[0]\n",
    "    print(\"PROCESSING: \",cty)\n",
    "    print(df)\n",
    "    print()\n",
    "    \n",
    "    r1 = df['avg_census'].iloc[0]\n",
    "    r2 = df['avg_census'].iloc[1]\n",
    "    r3 = df['avg_b_avail'].iloc[2]\n",
    "    r4 = df['avg_b_avail'].iloc[3]\n",
    "    r5 = df['avg_b_avail'].iloc[4]\n",
    "    \n",
    "    r1_2 = r1 + r2\n",
    "    r3_4_5 = r3 + r4 + r5\n",
    "    print(\"r1=\",r1, \" r2=\",r2, \" r3=\",r3, \" r4=\",r4, \" r5=\",r5)\n",
    "    print(\"r1_2=\",r1_2, \"r3_4_5=\",r3_4_5)\n",
    "    \n",
    "    if r3_4_5 >= r1_2:\n",
    "        return (cty, True)\n",
    "    else:\n",
    "        return (cty, False)\n",
    "    "
   ]
  },
  {
   "cell_type": "code",
   "execution_count": 351,
   "metadata": {
    "collapsed": false
   },
   "outputs": [],
   "source": [
    "counties_data = pd.read_csv(\"data/counties.csv\")"
   ]
  },
  {
   "cell_type": "code",
   "execution_count": 352,
   "metadata": {
    "collapsed": false
   },
   "outputs": [],
   "source": [
    "#counties_data"
   ]
  },
  {
   "cell_type": "code",
   "execution_count": 353,
   "metadata": {
    "collapsed": false
   },
   "outputs": [
    {
     "name": "stdout",
     "output_type": "stream",
     "text": [
      "PROCESSING:  CTY_A\n",
      "  county  rating  avg_census  avg_b_avail\n",
      "0  CTY_A       1        10.1          1.5\n",
      "1    NaN       2        20.2          2.5\n",
      "2    NaN       3        30.3          3.5\n",
      "3    NaN       4        40.4          4.5\n",
      "4    NaN       5        50.4          5.5\n",
      "\n",
      "r1= 10.1  r2= 20.2  r3= 3.5  r4= 4.5  r5= 5.5\n",
      "r1_2= 30.3 r3_4_5= 13.5\n",
      "\n",
      "CTY_A -> False\n",
      "----------------------------------\n",
      "PROCESSING:  CTY_B\n",
      "  county  rating  avg_census  avg_b_avail\n",
      "5  CTY_B       1  121.742754    10.590570\n",
      "6    NaN       2  104.840000    19.345200\n",
      "7    NaN       3  109.345600    47.845450\n",
      "8    NaN       4  147.581500    12.418471\n",
      "9    NaN       5  119.234500   317.676500\n",
      "\n",
      "r1= 121.7427536  r2= 104.84  r3= 47.84545  r4= 12.418471  r5= 317.6765\n",
      "r1_2= 226.5827536 r3_4_5= 377.940421\n",
      "\n",
      "CTY_B -> True\n",
      "----------------------------------\n",
      "PROCESSING:  CTY_C\n",
      "   county  rating  avg_census  avg_b_avail\n",
      "10  CTY_C       1       100.1         10.5\n",
      "11    NaN       2       200.2         20.5\n",
      "12    NaN       3       300.3         30.5\n",
      "13    NaN       4       400.4         40.5\n",
      "14    NaN       5       500.4         50.5\n",
      "\n",
      "r1= 100.1  r2= 200.2  r3= 30.5  r4= 40.5  r5= 50.5\n",
      "r1_2= 300.3 r3_4_5= 121.5\n",
      "\n",
      "CTY_C -> False\n",
      "----------------------------------\n"
     ]
    }
   ],
   "source": [
    "n = 5  #chunk row size\n",
    "list_df = [counties_data[i:i+n] for i in range(0,counties_data.shape[0],n)]\n",
    "for cty in list_df:\n",
    "    c, can_move = process_county(cty)\n",
    "    print()\n",
    "    print(c, \"->\",can_move)\n",
    "    print(\"----------------------------------\")\n",
    "        "
   ]
  },
  {
   "cell_type": "code",
   "execution_count": 354,
   "metadata": {
    "collapsed": false
   },
   "outputs": [],
   "source": [
    "#df_by_cty = list(counties_data.groupby('county'))\n",
    "#df_by_cty\n",
    "#for i in df_by_cty:\n",
    "#    cty = i[1]\n",
    "#    process_county(cty)\n",
    "#    print()"
   ]
  },
  {
   "cell_type": "code",
   "execution_count": 355,
   "metadata": {
    "collapsed": true
   },
   "outputs": [],
   "source": [
    "#n = 5  #chunk row size\n",
    "#df = counties_data\n",
    "#list_df = [df[i:i+n] for i in range(0,df.shape[0],n)]\n",
    "#for i in list_df:\n",
    "#    process_county(i)"
   ]
  }
 ],
 "metadata": {
  "kernelspec": {
   "display_name": "Python 3",
   "language": "python",
   "name": "python3"
  },
  "language_info": {
   "codemirror_mode": {
    "name": "ipython",
    "version": 3
   },
   "file_extension": ".py",
   "mimetype": "text/x-python",
   "name": "python",
   "nbconvert_exporter": "python",
   "pygments_lexer": "ipython3",
   "version": "3.6.0"
  }
 },
 "nbformat": 4,
 "nbformat_minor": 2
}
