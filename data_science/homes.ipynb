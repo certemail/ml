{
 "cells": [
  {
   "cell_type": "code",
   "execution_count": 260,
   "metadata": {
    "collapsed": true
   },
   "outputs": [],
   "source": [
    "import pandas as pd\n",
    "import numpy as np"
   ]
  },
  {
   "cell_type": "code",
   "execution_count": 261,
   "metadata": {
    "collapsed": false
   },
   "outputs": [],
   "source": [
    "def process_county(df):\n",
    "    df = df.replace(np.nan, '', regex=True)\n",
    "    cty_name = df['county'].iloc[0]\n",
    "    #print(\"PROCESSING: \",cty_name)\n",
    "    print()\n",
    "    \n",
    "    r1 = df['avg_census'].iloc[0]\n",
    "    r2 = df['avg_census'].iloc[1]\n",
    "    r3 = df['avg_b_avail'].iloc[2]\n",
    "    r4 = df['avg_b_avail'].iloc[3]\n",
    "    r5 = df['avg_b_avail'].iloc[4]\n",
    "    \n",
    "    r1_2 = r1 + r2\n",
    "    r3_4_5 = r3 + r4 + r5\n",
    "    #print(\"r1=\",r1, \" r2=\",r2, \" r3=\",r3, \" r4=\",r4, \" r5=\",r5)\n",
    "    #print(\"r1_2=\",r1_2, \"r3_4_5=\",r3_4_5)\n",
    "    #df[\"avg_census_1_2\"] =    [r1_2, \"\", \"\",\"\",\"\"]\n",
    "    #df[\"avg_b_avail_3_4_5\"] = [r3_4_5, \"\", \"\",\"\",\"\"]\n",
    "    \n",
    "    if r3_4_5 >= r1_2:\n",
    "        df[\"relocation\"] = [\"RELOCATE\",\"\", \"\", \"\", \"\"]\n",
    "    else:\n",
    "        df[\"relocation\"] = [\"NO_SPACE\", \"\", \"\", \"\", \"\"]\n",
    "    \n",
    "    return df\n",
    "    "
   ]
  },
  {
   "cell_type": "code",
   "execution_count": 262,
   "metadata": {
    "collapsed": false
   },
   "outputs": [],
   "source": [
    "counties_data = pd.read_csv(\"data/counties.csv\")"
   ]
  },
  {
   "cell_type": "code",
   "execution_count": 263,
   "metadata": {
    "collapsed": false
   },
   "outputs": [],
   "source": [
    "#counties_data"
   ]
  },
  {
   "cell_type": "code",
   "execution_count": 264,
   "metadata": {
    "collapsed": false
   },
   "outputs": [
    {
     "name": "stdout",
     "output_type": "stream",
     "text": [
      "\n",
      "  county  rating  avg_census  avg_b_avail relocation\n",
      "0  CTY_A       1        10.1          1.5   NO_SPACE\n",
      "1              2        20.2          2.5           \n",
      "2              3        30.3          3.5           \n",
      "3              4        40.4          4.5           \n",
      "4              5        50.4          5.5           \n",
      "\n",
      "  county  rating  avg_census  avg_b_avail relocation\n",
      "5  CTY_B       1  121.742754    10.590570   RELOCATE\n",
      "6              2  104.840000    19.345200           \n",
      "7              3  109.345600    47.845450           \n",
      "8              4  147.581500    12.418471           \n",
      "9              5  119.234500   317.676500           \n",
      "\n",
      "   county  rating  avg_census  avg_b_avail relocation\n",
      "10  CTY_C       1       100.1         10.5   NO_SPACE\n",
      "11              2       200.2         20.5           \n",
      "12              3       300.3         30.5           \n",
      "13              4       400.4         40.5           \n",
      "14              5       500.4         50.5           \n"
     ]
    }
   ],
   "source": [
    "n = 5  #chunk row size\n",
    "list_df = [counties_data[i:i+n] for i in range(0,counties_data.shape[0],n)]\n",
    "for cty in list_df:\n",
    "    county_processed_df = process_county(cty)\n",
    "    print(county_processed_df)       "
   ]
  }
 ],
 "metadata": {
  "kernelspec": {
   "display_name": "Python 3",
   "language": "python",
   "name": "python3"
  },
  "language_info": {
   "codemirror_mode": {
    "name": "ipython",
    "version": 3
   },
   "file_extension": ".py",
   "mimetype": "text/x-python",
   "name": "python",
   "nbconvert_exporter": "python",
   "pygments_lexer": "ipython3",
   "version": "3.6.0"
  }
 },
 "nbformat": 4,
 "nbformat_minor": 2
}
