{
 "cells": [
  {
   "cell_type": "code",
   "execution_count": 114,
   "metadata": {},
   "outputs": [],
   "source": [
    "import pandas as pd\n",
    "import numpy as np\n",
    "import warnings"
   ]
  },
  {
   "cell_type": "code",
   "execution_count": 115,
   "metadata": {},
   "outputs": [],
   "source": [
    "#warnings.filterwarnings('ignore')\n",
    "pd.set_option('display.max_rows', 900)\n",
    "pd.set_option('display.max_columns', 900)\n",
    "pd.set_option('display.width', 850)"
   ]
  },
  {
   "cell_type": "code",
   "execution_count": 116,
   "metadata": {},
   "outputs": [],
   "source": [
    "def add_new_columns(state_df):\n",
    "    state_df['sum_r12'] = ''\n",
    "    state_df['sum_r345'] = ''\n",
    "    state_df['relocate'] = ''\n",
    "    state_df['relocating_provnum'] = ''\n",
    "    state_df['relocating_provname'] = ''\n",
    "    return state_df"
   ]
  },
  {
   "cell_type": "code",
   "execution_count": 117,
   "metadata": {},
   "outputs": [],
   "source": [
    "df = pd.read_csv(\"data/homes_example.csv\")"
   ]
  },
  {
   "cell_type": "code",
   "execution_count": 118,
   "metadata": {},
   "outputs": [],
   "source": [
    "df = df.drop(columns=['Count of FACID']) \n",
    "df = df.fillna(method='ffill')\n",
    "df['Comp5star'] = df['Comp5star'].astype(int)\n",
    "df['PROVNUM']   = df['PROVNUM'].astype(str)\n",
    "df['PROVNAME']  = df['PROVNAME'].astype(str)\n",
    "\n",
    "#df"
   ]
  },
  {
   "cell_type": "code",
   "execution_count": 119,
   "metadata": {},
   "outputs": [],
   "source": [
    "def process_county(county_df):\n",
    "    # check if rating of 1 or 2 does not exist first\n",
    "    ratings = county_df['Comp5star']\n",
    "    #print(\"ratings:\",ratings)\n",
    "    \n",
    "    if (1 not in ratings.values) and (2 not in ratings.values):\n",
    "        #print(\"NO 1 and NO 2\")\n",
    "        county_df.loc[0:0,'relocate'] = 'N/A'\n",
    "        return county_df\n",
    "    else:\n",
    "        #print(\"PROCESSING COUNTY:\",county_df['County_name'][0])\n",
    "        \n",
    "        # ------- get indicies of '1s and 2s'\n",
    "        i_1_2 = ratings.isin([1,2])\n",
    "        i_1_2 = i_1_2[i_1_2].index\n",
    "                \n",
    "        sum_1_2 = 0\n",
    "        for i in i_1_2:\n",
    "            #print(\"idx_of_1_or_2:\", i, \"->\", county_df['Sum of MDScensus_avg'][i])\n",
    "            sum_1_2 =  sum_1_2 + county_df['Sum of MDScensus_avg'][i]\n",
    "            \n",
    "        #print(\"sum of 1s & 2s:\", sum_1_2)\n",
    "        # insert sum into same line as name of the county\n",
    "        county_df['sum_r12'][0] = sum_1_2       \n",
    "        \n",
    "        # ------ get indicies of '3s, 4s, and 5s'\n",
    "        i_3_4_5 = ratings.isin([3,4,5])\n",
    "        i_3_4_5 = i_3_4_5[i_3_4_5].index\n",
    "                \n",
    "        sum_3_4_5 = 0\n",
    "        for i in i_3_4_5:\n",
    "            #print(\"idx_of_3_or_4_or_5:\", i, \"->\", county_df['Sum of Beds_Avail'][i])\n",
    "            sum_3_4_5 =  sum_3_4_5 + county_df['Sum of Beds_Avail'][i]\n",
    "            \n",
    "        #print(\"sum of 3s & 4s & 5s:\", sum_3_4_5)\n",
    "        # insert sum into same line as name of the county\n",
    "        county_df['sum_r345'][0] = sum_3_4_5\n",
    "        \n",
    "        # enough beds available, populate relocate column\n",
    "        if sum_3_4_5 >= sum_1_2:\n",
    "            county_df['relocate'][0] = 'RELOCATE'\n",
    "            \n",
    "            provnums  = []\n",
    "            provnames = []\n",
    "            for i in i_1_2:\n",
    "                provnums.append(str(county_df['PROVNUM'][i]))\n",
    "                provnames.append(county_df['PROVNAME'][i])\n",
    "            \n",
    "            #print(provnums)   \n",
    "            #print(provnames)\n",
    "            county_df['relocating_provnum'][0] = ','.join(provnums)\n",
    "            county_df['relocating_provname'][0] = ','.join(provnames)               \n",
    "        else:\n",
    "            county_df['relocate'][0] = 'NO_SPACE'\n",
    "        \n",
    "        #print(\"------------------------------------------------\")\n",
    "        return county_df"
   ]
  },
  {
   "cell_type": "code",
   "execution_count": 120,
   "metadata": {},
   "outputs": [],
   "source": [
    "l_df_out = []\n",
    "states = df.STATE.unique()\n",
    "\n",
    "for state in states:\n",
    "    #print(\"/////////////////////////////////////////\", state, \"/////////////////////////////////\")\n",
    "    state_df = df.loc[df['STATE'] == state]\n",
    "    state_df = add_new_columns(state_df)\n",
    "    #print(state_df)\n",
    "    \n",
    "    # get all counties for this state\n",
    "    counties_in_state = state_df.County_name.unique()\n",
    "    #print(counties_in_state)\n",
    "\n",
    "    for county in counties_in_state:\n",
    "        #print(\"-----------------------------------------\", county, \"------------------------------\")\n",
    "        county_df = state_df.loc[state_df['County_name'] == county]\n",
    "        \n",
    "        county_processed_df = process_county(county_df.reset_index())\n",
    "        #print(county_processed_df)\n",
    "        \n",
    "        l_df_out.append(county_processed_df)\n",
    "        #print(\"-----------------------------------------\", county, \"------------------------------\")\n",
    "    #print(\"/////////////////////////////////////////\", state, \"/////////////////////////////////\\n\")\n",
    "\n",
    "df_out = (pd.concat(l_df_out)).reset_index(drop=True)\n",
    "#print(df_out.to_string())\n",
    "df_out.to_csv(\"homes_df_out.csv\", index=False)\n",
    "#df_out"
   ]
  }
 ],
 "metadata": {
  "kernelspec": {
   "display_name": "Python 3",
   "language": "python",
   "name": "python3"
  },
  "language_info": {
   "codemirror_mode": {
    "name": "ipython",
    "version": 3
   },
   "file_extension": ".py",
   "mimetype": "text/x-python",
   "name": "python",
   "nbconvert_exporter": "python",
   "pygments_lexer": "ipython3",
   "version": "3.7.4"
  }
 },
 "nbformat": 4,
 "nbformat_minor": 2
}
