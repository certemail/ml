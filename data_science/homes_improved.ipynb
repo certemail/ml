{
 "cells": [
  {
   "cell_type": "code",
   "execution_count": 72,
   "metadata": {},
   "outputs": [],
   "source": [
    "import pandas as pd\n",
    "import numpy as np\n",
    "import warnings\n",
    "\n",
    "warnings.filterwarnings('ignore')\n",
    "pd.set_option('display.max_rows', 900)\n",
    "pd.set_option('display.max_columns', 900)\n",
    "pd.set_option('display.width', 850)"
   ]
  },
  {
   "cell_type": "code",
   "execution_count": 73,
   "metadata": {},
   "outputs": [],
   "source": [
    "def add_new_columns(state_df):\n",
    "    state_df['sum_r12'] = ''\n",
    "    state_df['sum_r345'] = ''\n",
    "    state_df['relocate'] = ''\n",
    "    state_df['relocating_provnum'] = ''\n",
    "    state_df['relocating_provname'] = ''\n",
    "    return state_df"
   ]
  },
  {
   "cell_type": "code",
   "execution_count": 74,
   "metadata": {},
   "outputs": [],
   "source": [
    "df = pd.read_csv(\"data/homes_example.csv\")"
   ]
  },
  {
   "cell_type": "code",
   "execution_count": 75,
   "metadata": {},
   "outputs": [],
   "source": [
    "df = df.drop(columns=['Count of FACID']) \n",
    "df = df.fillna(method='ffill')\n",
    "df['Comp5star'] = df['Comp5star'].astype(int)\n",
    "df['PROVNUM']   = df['PROVNUM'].astype(str)\n",
    "df['PROVNAME']  = df['PROVNAME'].astype(str)\n",
    "\n",
    "#df"
   ]
  },
  {
   "cell_type": "code",
   "execution_count": 81,
   "metadata": {},
   "outputs": [],
   "source": [
    "def process_county(county_df):\n",
    "    return county_df"
   ]
  },
  {
   "cell_type": "code",
   "execution_count": 80,
   "metadata": {},
   "outputs": [
    {
     "name": "stdout",
     "output_type": "stream",
     "text": [
      "   STATE           County_name  Comp5star PROVNUM PROVNAME  Sum of MDScensus_avg  Sum of Beds_Avail sum_r12 sum_r345 relocate relocating_provnum relocating_provname\n",
      "0     AK             Anchorage          4   25018        A                    10                 16                                                                 \n",
      "1     AK             Anchorage          5   25025        B                    11                 17                                                                 \n",
      "2     AK             Anchorage          5   25036        C                    12                 18                                                                 \n",
      "3     AK  Fairbanks North Star          3   25020        D                    13                 19                                                                 \n",
      "4     WY               Laramie          1  535013        E                    17                 28                                                                 \n",
      "5     WY               Laramie          1  535025        F                    19                 77                                                                 \n",
      "6     WY               Laramie          5  535032        G                    21                 14                                                                 \n",
      "7     WY               Laramie          5  535044        H                    23                 56                                                                 \n",
      "8     WY               Natrona          4  535024        K                    45                 56                                                                 \n",
      "9     WY               Natrona          4  535049        L                    93                 26                                                                 \n",
      "10    VT            Chittenden          1  475030        X                   123                 56                                                                 \n",
      "11    VT            Chittenden          2  475014        Y                    45                 12                                                                 \n",
      "12    VT            Chittenden          3  475040        Z                    44                 57                                                                 \n",
      "13    VT            Chittenden          4  475003       AA                    33                 12                                                                 \n",
      "14    VT            Chittenden          5  475056       BB                    22                  3                                                                 \n",
      "15    VT              Franklin          2  475021       CC                    77                 33                                                                 \n",
      "16    VT              Franklin          5  475047       DD                    88                 55                                                                 \n",
      "17    VT              Franklin          5  475055       EE                    55                 66                                                                 \n",
      "18    XX                 Apple          1  666666       FF                    10                 16                                                                 \n",
      "19    XX                 Apple          2  777777       GG                    11                 17                                                                 \n",
      "20    XX                 Apple          2  888888       HH                    12                 18                                                                 \n",
      "21    XX                Banana          3  999999       II                    13                 19                                                                 \n"
     ]
    }
   ],
   "source": [
    "l_df_out = []\n",
    "\n",
    "states = df.STATE.unique()\n",
    "\n",
    "for state in states:\n",
    "    #print(\"/////////////////////////////////////////\", state, \"/////////////////////////////////\")\n",
    "    state_df = df.loc[df['STATE'] == state]\n",
    "    state_df = add_new_columns(state_df)\n",
    "    #print(state_df)\n",
    "    \n",
    "    # get all counties for this state\n",
    "    counties_in_state = state_df.County_name.unique()\n",
    "    #print(counties_in_state)\n",
    "\n",
    "    for county in counties_in_state:\n",
    "        #print(\"-----------------------------------------\", county, \"------------------------------\")\n",
    "        county_df = state_df.loc[state_df['County_name'] == county]\n",
    "        \n",
    "        county_processed_df = process_county(county_df)\n",
    "        #print(county_processed_df)\n",
    "        \n",
    "        l_df_out.append(county_processed_df)\n",
    "        #print(\"-----------------------------------------\", county, \"------------------------------\")\n",
    "    #print(\"/////////////////////////////////////////\", state, \"/////////////////////////////////\\n\")\n",
    "\n",
    "df_out = (pd.concat(l_df_out)).reset_index(drop=True)\n",
    "print(df_out.to_string())\n",
    "df_out.to_csv(\"df_out.csv\", index=False)"
   ]
  },
  {
   "cell_type": "code",
   "execution_count": null,
   "metadata": {},
   "outputs": [],
   "source": []
  }
 ],
 "metadata": {
  "kernelspec": {
   "display_name": "Python 3",
   "language": "python",
   "name": "python3"
  },
  "language_info": {
   "codemirror_mode": {
    "name": "ipython",
    "version": 3
   },
   "file_extension": ".py",
   "mimetype": "text/x-python",
   "name": "python",
   "nbconvert_exporter": "python",
   "pygments_lexer": "ipython3",
   "version": "3.7.4"
  }
 },
 "nbformat": 4,
 "nbformat_minor": 2
}
