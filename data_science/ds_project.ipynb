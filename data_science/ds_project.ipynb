{
 "cells": [
  {
   "cell_type": "code",
   "execution_count": 2302,
   "metadata": {
    "collapsed": true
   },
   "outputs": [],
   "source": [
    "import pandas as pd\n",
    "import numpy as np"
   ]
  },
  {
   "cell_type": "code",
   "execution_count": 2303,
   "metadata": {
    "collapsed": false
   },
   "outputs": [
    {
     "name": "stdout",
     "output_type": "stream",
     "text": [
      "reading history matrix original dimensions:    (455, 34)\n",
      "assessment scores matrix original dimensions:  (453, 26)\n"
     ]
    }
   ],
   "source": [
    "DEBUG = False\n",
    "\n",
    "# read in both datasets\n",
    "reading_history_df   = pd.read_csv(\"data/db/reading_history_database.csv\")\n",
    "assessment_scores_df = pd.read_csv(\"data/db/screening_assessment_scores.csv\")\n",
    "print(\"reading history matrix original dimensions:   \", reading_history_df.shape)\n",
    "print(\"assessment scores matrix original dimensions: \", assessment_scores_df.shape)\n"
   ]
  },
  {
   "cell_type": "markdown",
   "metadata": {},
   "source": [
    "# Preprocess reading_history database"
   ]
  },
  {
   "cell_type": "code",
   "execution_count": 2304,
   "metadata": {
    "collapsed": true
   },
   "outputs": [],
   "source": [
    "# ----- shorten the column names for readability\n",
    "shortened_cols = [\"Q\"+str(q) for q in range(1,34)]\n",
    "shortened_cols.insert(0, \"Participant\")\n",
    "reading_history_df.columns = shortened_cols"
   ]
  },
  {
   "cell_type": "code",
   "execution_count": 2305,
   "metadata": {
    "collapsed": true
   },
   "outputs": [],
   "source": [
    "# ------ delete irrelevant columns (comments entered by subjects)\n",
    "del reading_history_df['Q30']\n",
    "del reading_history_df['Q32']"
   ]
  },
  {
   "cell_type": "code",
   "execution_count": 2306,
   "metadata": {
    "collapsed": true
   },
   "outputs": [],
   "source": [
    "# ------- remove rows containing all NULL values\n",
    "reading_history_df = reading_history_df.dropna(axis=0, how='all')"
   ]
  },
  {
   "cell_type": "code",
   "execution_count": 2307,
   "metadata": {
    "collapsed": false
   },
   "outputs": [],
   "source": [
    "# ------- find and remove any duplicate keys ('Participant')    #df[~df.name.isin(value_list)]\n",
    "rd_h = reading_history_df['Participant'].value_counts()\n",
    "reading_history_duplicates = rd_h[rd_h > 1]\n",
    "if DEBUG: print(\"\\nreading_history duplicate keys:\")\n",
    "if DEBUG: print(reading_history_duplicates.sort_index())\n",
    "\n",
    "duplicate_participants_to_remove = reading_history_duplicates.index.tolist()\n",
    "reading_history_df = reading_history_df[~reading_history_df.Participant.isin(duplicate_participants_to_remove)]"
   ]
  },
  {
   "cell_type": "code",
   "execution_count": 2308,
   "metadata": {
    "collapsed": false
   },
   "outputs": [],
   "source": [
    "# ------- remove row that has 'Participant' number as \"INCOMPLETE\"\n",
    "reading_history_df = reading_history_df[~reading_history_df.Participant.isin(['INCOMPLETE'])]"
   ]
  },
  {
   "cell_type": "code",
   "execution_count": 2309,
   "metadata": {
    "collapsed": false
   },
   "outputs": [],
   "source": [
    "# ------- Q26 cleanup (fill in NULL values with most frequently occurring)\n",
    "if DEBUG: print(\"BEFORE:\\nNumber of NULL values in Q26: \", reading_history_df.Q26.isnull().sum())\n",
    "if DEBUG: print(\"Frequency of values in Q26: \\n\", reading_history_df['Q26'].value_counts())\n",
    "\n",
    "most_frequent_value_in_Q26 = reading_history_df['Q26'].value_counts().index[0]\n",
    "reading_history_df.Q26.fillna(most_frequent_value_in_Q26, inplace=True)\n",
    "\n",
    "if DEBUG: print(\"\\nAFTER:\\nNumber of NULL values in Q26: \", reading_history_df.Q26.isnull().sum())\n",
    "if DEBUG: print(\"Frequency of values in Q26: \\n\", reading_history_df['Q26'].value_counts())"
   ]
  },
  {
   "cell_type": "code",
   "execution_count": 2310,
   "metadata": {
    "collapsed": false
   },
   "outputs": [],
   "source": [
    "# ------- Q27 cleanup (fill in NULL values with most frequently occurring)\n",
    "if DEBUG: print(\"BEFORE:\\nNumber of NULL values in Q27: \", reading_history_df.Q27.isnull().sum())\n",
    "if DEBUG: print(\"Frequency of values in Q27: \\n\", reading_history_df['Q27'].value_counts())\n",
    "\n",
    "most_frequent_value_in_Q27 = reading_history_df['Q27'].value_counts().index[0]\n",
    "reading_history_df.Q27.fillna(most_frequent_value_in_Q27, inplace=True)\n",
    "\n",
    "if DEBUG: print(\"\\nAFTER:\\nNumber of NULL values in Q27: \", reading_history_df.Q27.isnull().sum())\n",
    "if DEBUG: print(\"Frequency of values in Q27: \\n\", reading_history_df['Q27'].value_counts())"
   ]
  },
  {
   "cell_type": "code",
   "execution_count": 2311,
   "metadata": {
    "collapsed": false
   },
   "outputs": [],
   "source": [
    "# ------- Q28 cleanup (fill in NULL values)\n",
    "if DEBUG: print(\"BEFORE:\\nNumber of NULL values in Q28: \", reading_history_df.Q28.isnull().sum())\n",
    "if DEBUG: print(\"Frequency of values in Q28: \\n\", reading_history_df['Q28'].value_counts())\n",
    "    \n",
    "most_frequent_value_in_Q28 = reading_history_df['Q28'].value_counts().index[0]\n",
    "reading_history_df.Q28.fillna(most_frequent_value_in_Q28, inplace=True)\n",
    "\n",
    "if DEBUG: print(\"\\nAFTER:\\nNumber of NULL values in Q28: \", reading_history_df.Q28.isnull().sum())\n",
    "if DEBUG: print(\"Frequency of values in Q28: \\n\", reading_history_df['Q28'].value_counts())"
   ]
  },
  {
   "cell_type": "code",
   "execution_count": 2312,
   "metadata": {
    "collapsed": false
   },
   "outputs": [],
   "source": [
    "# ------- Q29 cleanup (make all lowercase and strip whitespace)\n",
    "if DEBUG: print(\"BEFORE:\\nNumber of NULL values in Q29: \", reading_history_df.Q29.isnull().sum())\n",
    "if DEBUG: print(\"Frequency of values in Q29: \\n\", reading_history_df['Q29'].value_counts())\n",
    "\n",
    "# convert to lowercase and strip leading and trailing whitespace\n",
    "reading_history_df['Q29'] = reading_history_df['Q29'].apply(lambda x: x.lower().strip())\n",
    "\n",
    "# replace spaces with underscores\n",
    "reading_history_df['Q29'] = reading_history_df['Q29'].apply(lambda x: '_'.join(x.split(\" \"))) \n",
    "\n",
    "if DEBUG: print(\"\\nAFTER:\\nNumber of NULL values in Q29: \", reading_history_df.Q29.isnull().sum())\n",
    "if DEBUG: print(\"Frequency of values in Q29: \\n\", reading_history_df['Q29'].value_counts())"
   ]
  },
  {
   "cell_type": "code",
   "execution_count": 2313,
   "metadata": {
    "collapsed": false
   },
   "outputs": [],
   "source": [
    "# ------- Q31 cleanup (make all lowercase and strip whitespace)\n",
    "if DEBUG: print(\"BEFORE:\\nNumber of NULL values in Q31: \", reading_history_df.Q31.isnull().sum())\n",
    "if DEBUG: print(\"Frequency of values in Q31: \\n\", reading_history_df['Q31'].value_counts())\n",
    "\n",
    "# fill in NULL value with most frequent\n",
    "most_frequent_value_in_Q31 = reading_history_df['Q31'].value_counts().index[0]\n",
    "reading_history_df.Q31.fillna(most_frequent_value_in_Q31, inplace=True)\n",
    "\n",
    "# convert to lowercase and strip leading and trailing whitespace\n",
    "reading_history_df['Q31'] = reading_history_df['Q31'].apply(lambda x: x.lower().strip())\n",
    "\n",
    "# collapse all 'no' responses\n",
    "def process_no_responses(x):\n",
    "    if x == 'no (n/a)' or x == 'no, only child':\n",
    "        return('no')\n",
    "    else:\n",
    "        return(x)\n",
    "reading_history_df['Q31'] = reading_history_df['Q31'].apply(process_no_responses) \n",
    "\n",
    "# replace whitespaces with underscores\n",
    "reading_history_df['Q31'] = reading_history_df['Q31'].apply(lambda x: '_'.join(x.split(\" \")))\n",
    "\n",
    "if DEBUG: print(\"\\nAFTER:\\nNumber of NULL values in Q31: \", reading_history_df.Q31.isnull().sum())\n",
    "if DEBUG: print(\"Frequency of values in Q31: \\n\", reading_history_df['Q31'].value_counts())"
   ]
  },
  {
   "cell_type": "code",
   "execution_count": 2314,
   "metadata": {
    "collapsed": false
   },
   "outputs": [],
   "source": [
    "# ------- Q33 cleanup\n",
    "if DEBUG: print(\"Number of NULL values in Q33: \", reading_history_df.Q33.isnull().sum())\n",
    "if DEBUG: print(\"\\nFrequency of values in Q33: \\n\", reading_history_df['Q33'].value_counts())\n",
    "    \n",
    "# fill in NULL value with most frequent\n",
    "most_frequent_value_in_Q33 = reading_history_df['Q33'].value_counts().index[0]\n",
    "reading_history_df.Q33.fillna(most_frequent_value_in_Q33, inplace=True)\n",
    "\n",
    "# lower case and strip whitespace\n",
    "reading_history_df['Q33'] = reading_history_df['Q33'].apply(lambda x: x.lower().strip())\n",
    "\n",
    "if DEBUG: print(\"Number of NULL values in Q33: \", reading_history_df.Q33.isnull().sum())\n",
    "if DEBUG: print(\"\\nFrequency of values in Q33: \\n\", reading_history_df['Q33'].value_counts())"
   ]
  },
  {
   "cell_type": "code",
   "execution_count": 2315,
   "metadata": {
    "collapsed": true
   },
   "outputs": [],
   "source": [
    "# TODO - one-hot encoding of categories"
   ]
  },
  {
   "cell_type": "code",
   "execution_count": 2316,
   "metadata": {
    "collapsed": false
   },
   "outputs": [
    {
     "name": "stdout",
     "output_type": "stream",
     "text": [
      "pre-processed reading_history dataframe dimensions:  (433, 32)\n"
     ]
    }
   ],
   "source": [
    "# check final pre-processed reading_history dataframe\n",
    "print(\"pre-processed reading_history dataframe dimensions: \", reading_history_df.shape)\n",
    "#print(\"\\nNULL values: \\n\", reading_history_df.isnull().sum())\n",
    "\n",
    "#reading_history_df.head(50)\n",
    "#print(\"\\nNULL values: \\n\", reading_history_df.isnull().sum())"
   ]
  },
  {
   "cell_type": "markdown",
   "metadata": {},
   "source": [
    "# Preprocess assessment_scores"
   ]
  },
  {
   "cell_type": "code",
   "execution_count": 2317,
   "metadata": {
    "collapsed": false
   },
   "outputs": [],
   "source": [
    "# assessment_scores_df.head()"
   ]
  },
  {
   "cell_type": "code",
   "execution_count": 2318,
   "metadata": {
    "collapsed": false
   },
   "outputs": [],
   "source": [
    "# --- update column names for readability\n",
    "\n",
    "# strip leading and trailing whitepsace, add underscores, rename 'Participant Number'\n",
    "new_columns = pd.Series(assessment_scores_df.columns).apply(lambda x: x.strip())\n",
    "new_columns = new_columns.apply(lambda x: '_'.join(x.split(\" \")))\n",
    "new_columns = new_columns.tolist()\n",
    "new_columns[0] = 'Participant'\n",
    "\n",
    "assessment_scores_df.columns = new_columns\n",
    "#assessment_scores_df.head()"
   ]
  },
  {
   "cell_type": "code",
   "execution_count": 2319,
   "metadata": {
    "collapsed": false
   },
   "outputs": [],
   "source": [
    "# ------- remove rows containing all NULL values\n",
    "assessment_scores_df = assessment_scores_df.dropna(axis=0, how='all')"
   ]
  },
  {
   "cell_type": "code",
   "execution_count": 2320,
   "metadata": {
    "collapsed": false
   },
   "outputs": [],
   "source": [
    "# ------- find and remove any rows with duplicate keys ('Participant')    #df[~df.name.isin(value_list)]\n",
    "if DEBUG: print(\"BEFORE:\")\n",
    "if DEBUG: print(\"assessment scores dimensions: \", assessment_scores_df.shape)\n",
    "    \n",
    "a_s = assessment_scores_df['Participant'].value_counts()\n",
    "assessment_scores_duplicates = a_s[a_s > 1]\n",
    "\n",
    "if DEBUG: print(\"assessment_scores duplicate keys:\")\n",
    "if DEBUG: print(assessment_scores_duplicates.sort_index())\n",
    "\n",
    "duplicate_participants_to_remove = assessment_scores_duplicates.index.tolist()\n",
    "assessment_scores_df = assessment_scores_df[~assessment_scores_df.Participant.isin(duplicate_participants_to_remove)]\n",
    "if DEBUG: print(\"\\nAFTER:\")\n",
    "if DEBUG: print(\"assessment scores dimensions: \", assessment_scores_df.shape)\n"
   ]
  },
  {
   "cell_type": "code",
   "execution_count": 2321,
   "metadata": {
    "collapsed": false
   },
   "outputs": [],
   "source": [
    "# ----- delete row marked \"INCOMPLETE\"\n",
    "if DEBUG: print(\"BEFORE: \", assessment_scores_df.shape)\n",
    "assessment_scores_df = assessment_scores_df[assessment_scores_df.Participant != 'INCOMPLETE']\n",
    "if DEBUG: print(\"AFTER: \", assessment_scores_df.shape)"
   ]
  },
  {
   "cell_type": "code",
   "execution_count": 2322,
   "metadata": {
    "collapsed": false
   },
   "outputs": [],
   "source": [
    "# ---- replace all strings (e.g., \"Skipped\", \"Incomplete\", etc. with NaN) except for Participant\n",
    "if DEBUG: print(\"BEFORE: Total NULL values: \", assessment_scores_df.isnull().sum().sum())\n",
    "filter_col = assessment_scores_df.columns.tolist()\n",
    "filter_col.remove('Participant')\n",
    "\n",
    "assessment_scores_df[filter_col] = assessment_scores_df[filter_col].apply(pd.to_numeric, errors='coerce')\n",
    "if DEBUG: print(\"AFTER: Total NULL values: \", assessment_scores_df.isnull().sum().sum())"
   ]
  },
  {
   "cell_type": "code",
   "execution_count": 2323,
   "metadata": {
    "collapsed": false
   },
   "outputs": [],
   "source": [
    "# ---- fill in NULL values (with median value)\n",
    "if DEBUG: print(\"BEFORE:\\nNULL values: \\n\", assessment_scores_df.isnull().sum())\n",
    "    \n",
    "median_per_column = assessment_scores_df[filter_col].apply(lambda x: x.median(),axis=0)\n",
    "if DEBUG: print(\"\\nMedian values per column:\\n\", median_per_column)\n",
    "    \n",
    "assessment_scores_df[filter_col] = assessment_scores_df[filter_col].fillna(median_per_column,axis=0)\n",
    "\n",
    "# ---- fill in NULL values (with median value)\n",
    "if DEBUG: print(\"\\nAFTER:\\nNULL values: \\n\", assessment_scores_df.isnull().sum())\n"
   ]
  },
  {
   "cell_type": "code",
   "execution_count": 2324,
   "metadata": {
    "collapsed": false
   },
   "outputs": [],
   "source": [
    "# ---- check final pre-processed reading_history dataframe\n",
    "#print(\"pre-processed assessment_scores dataframe dimensions: \", assessment_scores_df.shape)\n",
    "#print(\"\\nNULL values: \\n\", assessment_scores_df.isnull().sum())\n",
    "\n",
    "#assessment_scores_df.head(50)\n"
   ]
  },
  {
   "cell_type": "markdown",
   "metadata": {},
   "source": [
    "# Merge 2 databases"
   ]
  },
  {
   "cell_type": "code",
   "execution_count": 2325,
   "metadata": {
    "collapsed": false
   },
   "outputs": [],
   "source": [
    "# merge 2 databases on 'Participant' as key into one\n",
    "merged_history_and_scores = pd.merge(reading_history_df, assessment_scores_df, how='inner', on='Participant')"
   ]
  },
  {
   "cell_type": "code",
   "execution_count": 2326,
   "metadata": {
    "collapsed": false
   },
   "outputs": [
    {
     "name": "stdout",
     "output_type": "stream",
     "text": [
      "merged history and scores dimensions:  (421, 56)\n"
     ]
    }
   ],
   "source": [
    "# reset 'Participant' as the index\n",
    "merged_history_and_scores.set_index('Participant', inplace=True)\n",
    "print(\"merged history and scores dimensions: \", merged_history_and_scores.shape)"
   ]
  },
  {
   "cell_type": "code",
   "execution_count": 2327,
   "metadata": {
    "collapsed": true
   },
   "outputs": [],
   "source": [
    "# drop rows where all of the elements are NaN \n",
    "merged_history_and_scores = merged_history_and_scores.dropna(axis=0, how='all')\n",
    "#print(\"Number of missing values (NaN) by column:\")\n",
    "#print(merged_history_and_scores.isnull().sum())\n",
    "#print(\"\\nDimensions after dropping empty rows:\", merged_history_and_scores.shape)"
   ]
  },
  {
   "cell_type": "raw",
   "metadata": {},
   "source": [
    "# EXAMPLES\n",
    "# get index of NULL values\n",
    "#idx = reading_history_df['Q26'].index[reading_history_df['Q26'].apply(np.isnan)]\n",
    "#print(idx)"
   ]
  }
 ],
 "metadata": {
  "kernelspec": {
   "display_name": "Python 3",
   "language": "python",
   "name": "python3"
  },
  "language_info": {
   "codemirror_mode": {
    "name": "ipython",
    "version": 3
   },
   "file_extension": ".py",
   "mimetype": "text/x-python",
   "name": "python",
   "nbconvert_exporter": "python",
   "pygments_lexer": "ipython3",
   "version": "3.6.0"
  }
 },
 "nbformat": 4,
 "nbformat_minor": 2
}
