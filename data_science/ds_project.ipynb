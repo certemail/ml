{
 "cells": [
  {
   "cell_type": "code",
   "execution_count": 92,
   "metadata": {
    "collapsed": true
   },
   "outputs": [],
   "source": [
    "import pandas as pd\n",
    "import numpy as np"
   ]
  },
  {
   "cell_type": "code",
   "execution_count": 93,
   "metadata": {},
   "outputs": [
    {
     "name": "stdout",
     "output_type": "stream",
     "text": [
      "reading history matrix dimensions:    (455, 34)\n",
      "assessment scores matrix dimensions:  (453, 26)\n",
      "\n",
      "reading_history duplicate keys:\n",
      "1161    2\n",
      "2019    2\n",
      "2234    2\n",
      "2575    2\n",
      "4744    2\n",
      "5343    2\n",
      "5559    2\n",
      "7806    2\n",
      "9010    2\n",
      "Name: Participant Number, dtype: int64\n",
      "\n",
      "assesment_scores duplicate keys:\n",
      "1161    2\n",
      "2019    2\n",
      "2234    2\n",
      "4744    2\n",
      "5343    2\n",
      "5559    2\n",
      "6970    2\n",
      "7806    2\n",
      "9010    2\n",
      "9379    2\n",
      "Name: Participant Number, dtype: int64\n"
     ]
    }
   ],
   "source": [
    "# read in datasets\n",
    "reading_history   = pd.read_csv(\"data/db/reading_history_database.csv\")\n",
    "assessment_scores = pd.read_csv(\"data/db/screening_assessment_scores.csv\")\n",
    "print(\"reading history matrix dimensions:   \", reading_history.shape)\n",
    "print(\"assessment scores matrix dimensions: \", assessment_scores.shape)\n",
    "\n",
    "# find duplicate any duplicate keys ('Participant Numbers')\n",
    "rd_h = reading_history['Participant Number'].value_counts()\n",
    "as_s = assessment_scores['Participant Number'].value_counts()\n",
    "rd_h = rd_h[rd_h > 1]\n",
    "as_s = as_s[as_s > 1]\n",
    "\n",
    "print(\"\\nreading_history duplicate keys:\")\n",
    "print(rd_h.sort_index())\n",
    "print(\"\\nassesment_scores duplicate keys:\")\n",
    "print(as_s.sort_index())"
   ]
  },
  {
   "cell_type": "code",
   "execution_count": 94,
   "metadata": {},
   "outputs": [],
   "source": [
    "# shorten the column names for readability\n",
    "shortened_cols = [\"Q\"+str(q) for q in range(1,34)]\n",
    "shortened_cols.insert(0, \"Participant\")\n",
    "reading_history.columns = shortened_cols"
   ]
  },
  {
   "cell_type": "code",
   "execution_count": 95,
   "metadata": {
    "collapsed": true
   },
   "outputs": [],
   "source": [
    "assessment_scores.rename(columns={ assessment_scores.columns[0]: \"Participant\" }, inplace=True)"
   ]
  },
  {
   "cell_type": "code",
   "execution_count": 96,
   "metadata": {
    "collapsed": true
   },
   "outputs": [],
   "source": [
    "# merge 2 databases on 'Participant' as key into one\n",
    "merged_history_and_scores = pd.merge(reading_history, assessment_scores, how='inner', on='Participant')"
   ]
  },
  {
   "cell_type": "code",
   "execution_count": 97,
   "metadata": {},
   "outputs": [
    {
     "name": "stdout",
     "output_type": "stream",
     "text": [
      "merged history and scores dimensions:  (472, 58)\n"
     ]
    }
   ],
   "source": [
    "# reset 'Participant' as the index\n",
    "merged_history_and_scores.set_index('Participant', inplace=True)\n",
    "print(\"merged history and scores dimensions: \", merged_history_and_scores.shape)"
   ]
  },
  {
   "cell_type": "code",
   "execution_count": 98,
   "metadata": {
    "collapsed": true
   },
   "outputs": [],
   "source": [
    "# delete irrelevant columns (comments entered by subjects)\n",
    "del merged_history_and_scores['Q30']\n",
    "del merged_history_and_scores['Q32']"
   ]
  },
  {
   "cell_type": "code",
   "execution_count": 99,
   "metadata": {},
   "outputs": [],
   "source": [
    "# drop rows where all of the elements are NaN \n",
    "merged_history_and_scores = merged_history_and_scores.dropna(axis=0, how='all')\n",
    "#print(\"Number of missing values (NaN) by column:\")\n",
    "#print(merged_history_and_scores.isnull().sum())\n",
    "#print(\"\\nDimensions after dropping empty rows:\", merged_history_and_scores.shape)"
   ]
  },
  {
   "cell_type": "code",
   "execution_count": 100,
   "metadata": {},
   "outputs": [
    {
     "name": "stdout",
     "output_type": "stream",
     "text": [
      "BEFORE:\n",
      "all possible values in Q29:  ['No' 'Yes' 'Not Sure' 'Not sure' 'No ']\n",
      "value counts: \n",
      " No          335\n",
      "Yes          55\n",
      "Not sure     47\n",
      "Not Sure     21\n",
      "No            1\n",
      "Name: Q29, dtype: int64\n",
      "\n",
      "AFTER:\n",
      "all possible values in Q29:  ['no' 'yes' 'not_sure']\n",
      "value counts: \n",
      " no          336\n",
      "not_sure     68\n",
      "yes          55\n",
      "Name: Q29, dtype: int64\n"
     ]
    }
   ],
   "source": [
    "# Q29 cleanup\n",
    "# make all lowercase and strip whitespace\n",
    "print(\"BEFORE:\")\n",
    "print(\"all possible values in Q29: \", merged_history_and_scores.Q29.unique())\n",
    "print(\"value counts: \\n\", merged_history_and_scores.Q29.value_counts())\n",
    "\n",
    "print(\"\\nAFTER:\")\n",
    "merged_history_and_scores['Q29'] = merged_history_and_scores['Q29'].apply(lambda x: x.lower().strip())\n",
    "\n",
    "def not_sure_add_underscore(x):\n",
    "    if x == 'not sure':\n",
    "        return('not_sure')\n",
    "    else:\n",
    "        return(x)\n",
    "merged_history_and_scores['Q29'] = merged_history_and_scores['Q29'].apply(not_sure_add_underscore) \n",
    "print(\"all possible values in Q29: \", merged_history_and_scores.Q29.unique())\n",
    "print(\"value counts: \\n\", merged_history_and_scores.Q29.value_counts())\n",
    "\n",
    "# create dummy set\n",
    "new_Q29 = pd.get_dummies(merged_history_and_scores['Q29'], prefix='Q29')\n"
   ]
  },
  {
   "cell_type": "code",
   "execution_count": 101,
   "metadata": {
    "collapsed": true
   },
   "outputs": [],
   "source": [
    "# Q31 cleanup: as unordered (yes, no, not sure)"
   ]
  },
  {
   "cell_type": "code",
   "execution_count": 102,
   "metadata": {},
   "outputs": [],
   "source": [
    "# Q33 cleanup: as ordered categories (\"some college, etc.\")\n",
    "#print(\"all possible values in Q33: \")\n",
    "#merged_history_and_scores.Q33.value_counts()"
   ]
  }
 ],
 "metadata": {
  "kernelspec": {
   "display_name": "Python 3",
   "language": "python",
   "name": "python3"
  },
  "language_info": {
   "codemirror_mode": {
    "name": "ipython",
    "version": 3
   },
   "file_extension": ".py",
   "mimetype": "text/x-python",
   "name": "python",
   "nbconvert_exporter": "python",
   "pygments_lexer": "ipython3",
   "version": "3.6.1"
  }
 },
 "nbformat": 4,
 "nbformat_minor": 2
}
