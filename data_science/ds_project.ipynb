{
 "cells": [
  {
   "cell_type": "code",
   "execution_count": 469,
   "metadata": {
    "collapsed": true
   },
   "outputs": [],
   "source": [
    "import pandas as pd\n",
    "import numpy as np\n",
    "from sklearn.cluster import KMeans\n",
    "from sklearn.metrics.cluster import silhouette_score"
   ]
  },
  {
   "cell_type": "code",
   "execution_count": 470,
   "metadata": {},
   "outputs": [
    {
     "name": "stdout",
     "output_type": "stream",
     "text": [
      "reading history matrix original dimensions:    (455, 34)\n",
      "assessment scores matrix original dimensions:  (453, 26)\n"
     ]
    }
   ],
   "source": [
    "DEBUG = False\n",
    "\n",
    "# read in both datasets\n",
    "reading_history_df   = pd.read_csv(\"data/db/reading_history_database.csv\")\n",
    "assessment_scores_df = pd.read_csv(\"data/db/screening_assessment_scores.csv\")\n",
    "print(\"reading history matrix original dimensions:   \", reading_history_df.shape)\n",
    "print(\"assessment scores matrix original dimensions: \", assessment_scores_df.shape)"
   ]
  },
  {
   "cell_type": "markdown",
   "metadata": {},
   "source": [
    "# Preprocess reading_history database"
   ]
  },
  {
   "cell_type": "code",
   "execution_count": 471,
   "metadata": {
    "collapsed": true
   },
   "outputs": [],
   "source": [
    "# ----- shorten the column names for readability\n",
    "shortened_cols = [\"Q\"+str(q) for q in range(1,34)]\n",
    "shortened_cols.insert(0, \"Participant\")\n",
    "reading_history_df.columns = shortened_cols"
   ]
  },
  {
   "cell_type": "code",
   "execution_count": 472,
   "metadata": {},
   "outputs": [],
   "source": [
    "# ------ delete irrelevant columns \n",
    "del reading_history_df['Q30'] # comments entered by subjects\n",
    "del reading_history_df['Q32'] # comments entered by subjects\n",
    "del reading_history_df['Q33'] # level of education"
   ]
  },
  {
   "cell_type": "code",
   "execution_count": 473,
   "metadata": {
    "collapsed": true
   },
   "outputs": [],
   "source": [
    "# ------- remove rows containing all NULL values\n",
    "reading_history_df = reading_history_df.dropna(axis=0, how='all')"
   ]
  },
  {
   "cell_type": "code",
   "execution_count": 474,
   "metadata": {},
   "outputs": [],
   "source": [
    "# ------- find and remove any duplicate keys ('Participant')    #df[~df.name.isin(value_list)]\n",
    "rd_h = reading_history_df['Participant'].value_counts()\n",
    "reading_history_duplicates = rd_h[rd_h > 1]\n",
    "if DEBUG: print(\"\\nreading_history duplicate keys:\")\n",
    "if DEBUG: print(reading_history_duplicates.sort_index())\n",
    "\n",
    "duplicate_participants_to_remove = reading_history_duplicates.index.tolist()\n",
    "reading_history_df = reading_history_df[~reading_history_df.Participant.isin(duplicate_participants_to_remove)]"
   ]
  },
  {
   "cell_type": "code",
   "execution_count": 475,
   "metadata": {
    "collapsed": true
   },
   "outputs": [],
   "source": [
    "# ------- remove row that has 'Participant' number as \"INCOMPLETE\"\n",
    "reading_history_df = reading_history_df[~reading_history_df.Participant.isin(['INCOMPLETE'])]"
   ]
  },
  {
   "cell_type": "code",
   "execution_count": 476,
   "metadata": {},
   "outputs": [],
   "source": [
    "# ------- Q26 cleanup (fill in NULL values with most frequently occurring)\n",
    "if DEBUG: print(\"BEFORE:\\nNumber of NULL values in Q26: \", reading_history_df.Q26.isnull().sum())\n",
    "if DEBUG: print(\"Frequency of values in Q26: \\n\", reading_history_df['Q26'].value_counts())\n",
    "\n",
    "most_frequent_value_in_Q26 = reading_history_df['Q26'].value_counts().index[0]\n",
    "reading_history_df.Q26.fillna(most_frequent_value_in_Q26, inplace=True)\n",
    "\n",
    "if DEBUG: print(\"\\nAFTER:\\nNumber of NULL values in Q26: \", reading_history_df.Q26.isnull().sum())\n",
    "if DEBUG: print(\"Frequency of values in Q26: \\n\", reading_history_df['Q26'].value_counts())"
   ]
  },
  {
   "cell_type": "code",
   "execution_count": 477,
   "metadata": {},
   "outputs": [],
   "source": [
    "# ------- Q27 cleanup (fill in NULL values with most frequently occurring)\n",
    "if DEBUG: print(\"BEFORE:\\nNumber of NULL values in Q27: \", reading_history_df.Q27.isnull().sum())\n",
    "if DEBUG: print(\"Frequency of values in Q27: \\n\", reading_history_df['Q27'].value_counts())\n",
    "\n",
    "most_frequent_value_in_Q27 = reading_history_df['Q27'].value_counts().index[0]\n",
    "reading_history_df.Q27.fillna(most_frequent_value_in_Q27, inplace=True)\n",
    "\n",
    "if DEBUG: print(\"\\nAFTER:\\nNumber of NULL values in Q27: \", reading_history_df.Q27.isnull().sum())\n",
    "if DEBUG: print(\"Frequency of values in Q27: \\n\", reading_history_df['Q27'].value_counts())"
   ]
  },
  {
   "cell_type": "code",
   "execution_count": 478,
   "metadata": {},
   "outputs": [],
   "source": [
    "# ------- Q28 cleanup (fill in NULL values)\n",
    "if DEBUG: print(\"BEFORE:\\nNumber of NULL values in Q28: \", reading_history_df.Q28.isnull().sum())\n",
    "if DEBUG: print(\"Frequency of values in Q28: \\n\", reading_history_df['Q28'].value_counts())\n",
    "    \n",
    "# replace 'INCOMPLETE' with NaN\n",
    "reading_history_df['Q28'] = reading_history_df['Q28'].apply(pd.to_numeric, errors='coerce')\n",
    "    \n",
    "most_frequent_value_in_Q28 = reading_history_df['Q28'].value_counts().index[0]\n",
    "reading_history_df.Q28.fillna(most_frequent_value_in_Q28, inplace=True)\n",
    "\n",
    "if DEBUG: print(\"\\nAFTER:\\nNumber of NULL values in Q28: \", reading_history_df.Q28.isnull().sum())\n",
    "if DEBUG: print(\"Frequency of values in Q28: \\n\", reading_history_df['Q28'].value_counts())"
   ]
  },
  {
   "cell_type": "code",
   "execution_count": 479,
   "metadata": {},
   "outputs": [],
   "source": [
    "# ------- Q29 cleanup (make all lowercase and strip whitespace)\n",
    "if DEBUG: print(\"BEFORE:\\nNumber of NULL values in Q29: \", reading_history_df.Q29.isnull().sum())\n",
    "if DEBUG: print(\"Frequency of values in Q29: \\n\", reading_history_df['Q29'].value_counts())\n",
    "\n",
    "# convert to lowercase and strip leading and trailing whitespace\n",
    "reading_history_df['Q29'] = reading_history_df['Q29'].apply(lambda x: x.lower().strip())\n",
    "\n",
    "# replace spaces with underscores\n",
    "reading_history_df['Q29'] = reading_history_df['Q29'].apply(lambda x: '_'.join(x.split(\" \"))) \n",
    "\n",
    "if DEBUG: print(\"\\nAFTER:\\nNumber of NULL values in Q29: \", reading_history_df.Q29.isnull().sum())\n",
    "if DEBUG: print(\"Frequency of values in Q29: \\n\", reading_history_df['Q29'].value_counts())"
   ]
  },
  {
   "cell_type": "code",
   "execution_count": 480,
   "metadata": {},
   "outputs": [],
   "source": [
    "# ------- Q31 cleanup (make all lowercase and strip whitespace)\n",
    "if DEBUG: print(\"BEFORE:\\nNumber of NULL values in Q31: \", reading_history_df.Q31.isnull().sum())\n",
    "if DEBUG: print(\"Frequency of values in Q31: \\n\", reading_history_df['Q31'].value_counts())\n",
    "\n",
    "# fill in NULL value with most frequent\n",
    "most_frequent_value_in_Q31 = reading_history_df['Q31'].value_counts().index[0]\n",
    "reading_history_df.Q31.fillna(most_frequent_value_in_Q31, inplace=True)\n",
    "\n",
    "# convert to lowercase and strip leading and trailing whitespace\n",
    "reading_history_df['Q31'] = reading_history_df['Q31'].apply(lambda x: x.lower().strip())\n",
    "\n",
    "# consolidate all 'no' responses\n",
    "def process_no_responses(x):\n",
    "    if x == 'no (n/a)' or x == 'no, only child':\n",
    "        return('no')\n",
    "    else:\n",
    "        return(x)\n",
    "reading_history_df['Q31'] = reading_history_df['Q31'].apply(process_no_responses) \n",
    "\n",
    "# replace whitespaces with underscores\n",
    "reading_history_df['Q31'] = reading_history_df['Q31'].apply(lambda x: '_'.join(x.split(\" \")))\n",
    "\n",
    "if DEBUG: print(\"\\nAFTER:\\nNumber of NULL values in Q31: \", reading_history_df.Q31.isnull().sum())\n",
    "if DEBUG: print(\"Frequency of values in Q31: \\n\", reading_history_df['Q31'].value_counts())"
   ]
  },
  {
   "cell_type": "code",
   "execution_count": 481,
   "metadata": {
    "collapsed": true
   },
   "outputs": [],
   "source": [
    "# ------- Q33 cleanup\n",
    "#if DEBUG: print(\"Number of NULL values in Q33: \", reading_history_df.Q33.isnull().sum())\n",
    "#if DEBUG: print(\"\\nFrequency of values in Q33: \\n\", reading_history_df['Q33'].value_counts())\n",
    "    \n",
    "# fill in NULL value with most frequent\n",
    "#most_frequent_value_in_Q33 = reading_history_df['Q33'].value_counts().index[0]\n",
    "#reading_history_df.Q33.fillna(most_frequent_value_in_Q33, inplace=True)\n",
    "\n",
    "# lower case and strip whitespace\n",
    "#reading_history_df['Q33'] = reading_history_df['Q33'].apply(lambda x: x.lower().strip())\n",
    "\n",
    "# consolidate responses for level of education\n",
    "\n",
    "#if DEBUG: print(\"Number of NULL values in Q33: \", reading_history_df.Q33.isnull().sum())\n",
    "#if DEBUG: print(\"\\nFrequency of values in Q33: \\n\", reading_history_df['Q33'].value_counts())"
   ]
  },
  {
   "cell_type": "code",
   "execution_count": 482,
   "metadata": {},
   "outputs": [],
   "source": [
    "# ----- one-hot encoding of categories (Q29, Q31)\n",
    "Q29_dummies = pd.get_dummies(reading_history_df.Q29, prefix='Q29').astype(int)\n",
    "reading_history_df = pd.concat([reading_history_df,Q29_dummies],axis=1) \n",
    "reading_history_df.drop('Q29',inplace=True,axis=1)\n",
    "\n",
    "Q31_dummies = pd.get_dummies(reading_history_df.Q31, prefix='Q31').astype(int)\n",
    "reading_history_df = pd.concat([reading_history_df,Q31_dummies],axis=1) \n",
    "reading_history_df.drop('Q31',inplace=True,axis=1)"
   ]
  },
  {
   "cell_type": "code",
   "execution_count": 483,
   "metadata": {},
   "outputs": [
    {
     "name": "stdout",
     "output_type": "stream",
     "text": [
      "pre-processed reading_history dataframe dimensions:  (433, 35)\n",
      "\n",
      "NULL values:  0\n"
     ]
    }
   ],
   "source": [
    "# ---- check final pre-processed reading_history dataframe\n",
    "print(\"pre-processed reading_history dataframe dimensions: \", reading_history_df.shape)\n",
    "print(\"\\nNULL values: \", reading_history_df.isnull().sum().sum())\n",
    "\n",
    "reading_history_df.to_csv('reading_history_pre_processed.csv')\n",
    "#reading_history_df.head(5)"
   ]
  },
  {
   "cell_type": "markdown",
   "metadata": {},
   "source": [
    "# Preprocess assessment_scores"
   ]
  },
  {
   "cell_type": "code",
   "execution_count": 484,
   "metadata": {
    "collapsed": true
   },
   "outputs": [],
   "source": [
    "# assessment_scores_df.head()"
   ]
  },
  {
   "cell_type": "code",
   "execution_count": 485,
   "metadata": {
    "collapsed": true
   },
   "outputs": [],
   "source": [
    "# --- update column names for readability\n",
    "\n",
    "# strip leading and trailing whitepsace, add underscores, rename 'Participant Number'\n",
    "new_columns = pd.Series(assessment_scores_df.columns).apply(lambda x: x.strip())\n",
    "new_columns = new_columns.apply(lambda x: '_'.join(x.split(\" \")))\n",
    "new_columns = new_columns.tolist()\n",
    "new_columns[0] = 'Participant'\n",
    "\n",
    "assessment_scores_df.columns = new_columns\n",
    "#assessment_scores_df.head()"
   ]
  },
  {
   "cell_type": "code",
   "execution_count": 486,
   "metadata": {
    "collapsed": true
   },
   "outputs": [],
   "source": [
    "# ------- remove rows containing all NULL values\n",
    "assessment_scores_df = assessment_scores_df.dropna(axis=0, how='all')"
   ]
  },
  {
   "cell_type": "code",
   "execution_count": 487,
   "metadata": {},
   "outputs": [],
   "source": [
    "# ------- find and remove any rows with duplicate keys ('Participant')    #df[~df.name.isin(value_list)]\n",
    "if DEBUG: print(\"BEFORE:\")\n",
    "if DEBUG: print(\"assessment scores dimensions: \", assessment_scores_df.shape)\n",
    "    \n",
    "a_s = assessment_scores_df['Participant'].value_counts()\n",
    "assessment_scores_duplicates = a_s[a_s > 1]\n",
    "\n",
    "if DEBUG: print(\"assessment_scores duplicate keys:\")\n",
    "if DEBUG: print(assessment_scores_duplicates.sort_index())\n",
    "\n",
    "duplicate_participants_to_remove = assessment_scores_duplicates.index.tolist()\n",
    "assessment_scores_df = assessment_scores_df[~assessment_scores_df.Participant.isin(duplicate_participants_to_remove)]\n",
    "if DEBUG: print(\"\\nAFTER:\")\n",
    "if DEBUG: print(\"assessment scores dimensions: \", assessment_scores_df.shape)\n"
   ]
  },
  {
   "cell_type": "code",
   "execution_count": 488,
   "metadata": {},
   "outputs": [],
   "source": [
    "# ----- delete row marked \"INCOMPLETE\"\n",
    "if DEBUG: print(\"BEFORE: \", assessment_scores_df.shape)\n",
    "assessment_scores_df = assessment_scores_df[assessment_scores_df.Participant != 'INCOMPLETE']\n",
    "if DEBUG: print(\"AFTER: \", assessment_scores_df.shape)"
   ]
  },
  {
   "cell_type": "code",
   "execution_count": 489,
   "metadata": {},
   "outputs": [],
   "source": [
    "# ---- replace all strings (e.g., \"Skipped\", \"Incomplete\", etc. with NaN) except for Participant\n",
    "if DEBUG: print(\"BEFORE: Total NULL values: \", assessment_scores_df.isnull().sum().sum())\n",
    "filter_col = assessment_scores_df.columns.tolist()\n",
    "filter_col.remove('Participant')\n",
    "\n",
    "assessment_scores_df[filter_col] = assessment_scores_df[filter_col].apply(pd.to_numeric, errors='coerce')\n",
    "if DEBUG: print(\"AFTER: Total NULL values: \", assessment_scores_df.isnull().sum().sum())"
   ]
  },
  {
   "cell_type": "code",
   "execution_count": 490,
   "metadata": {},
   "outputs": [],
   "source": [
    "# ---- fill in NULL values (with median value)\n",
    "if DEBUG: print(\"BEFORE:\\nNULL values: \\n\", assessment_scores_df.isnull().sum())\n",
    "    \n",
    "median_per_column = assessment_scores_df[filter_col].apply(lambda x: x.median(),axis=0)\n",
    "if DEBUG: print(\"\\nMedian values per column:\\n\", median_per_column)\n",
    "    \n",
    "assessment_scores_df[filter_col] = assessment_scores_df[filter_col].fillna(median_per_column,axis=0)\n",
    "\n",
    "# ---- fill in NULL values (with median value)\n",
    "if DEBUG: print(\"\\nAFTER:\\nNULL values: \\n\", assessment_scores_df.isnull().sum())\n"
   ]
  },
  {
   "cell_type": "code",
   "execution_count": 491,
   "metadata": {},
   "outputs": [
    {
     "name": "stdout",
     "output_type": "stream",
     "text": [
      "pre-processed assessment_scores dataframe dimensions:  (428, 26)\n"
     ]
    }
   ],
   "source": [
    "# ---- check final pre-processed reading_history dataframe\n",
    "if DEBUG: print(\"\\nNULL values: \\n\", assessment_scores_df.isnull().sum())\n",
    "print(\"pre-processed assessment_scores dataframe dimensions: \", assessment_scores_df.shape)\n",
    "\n",
    "assessment_scores_df.to_csv('assessment_scores_pre_processed.csv')\n",
    "# assessment_scores_df.head(3)"
   ]
  },
  {
   "cell_type": "markdown",
   "metadata": {},
   "source": [
    "# Merge 2 databases"
   ]
  },
  {
   "cell_type": "code",
   "execution_count": 492,
   "metadata": {
    "collapsed": true
   },
   "outputs": [],
   "source": [
    "# merge 2 databases on 'Participant' as key into one (inner join -> intersection of keys)\n",
    "merged_history_and_scores_df = pd.merge(reading_history_df, assessment_scores_df, how='inner', on='Participant')"
   ]
  },
  {
   "cell_type": "code",
   "execution_count": 493,
   "metadata": {},
   "outputs": [
    {
     "name": "stdout",
     "output_type": "stream",
     "text": [
      "merged history and scores dimensions:  (421, 59)\n"
     ]
    }
   ],
   "source": [
    "# reset 'Participant' as the index\n",
    "merged_history_and_scores_df.set_index('Participant', inplace=True)\n",
    "print(\"merged history and scores dimensions: \", merged_history_and_scores_df.shape)\n",
    "if DEBUG: print(merged_history_and_scores_df.dtypes)"
   ]
  },
  {
   "cell_type": "code",
   "execution_count": 494,
   "metadata": {},
   "outputs": [],
   "source": [
    "# TODO feature scaling"
   ]
  },
  {
   "cell_type": "code",
   "execution_count": 495,
   "metadata": {},
   "outputs": [
    {
     "data": {
      "text/plain": [
       "cluster_0    194\n",
       "cluster_2    105\n",
       "cluster_1    103\n",
       "cluster_3     19\n",
       "Name: kmeans_3, dtype: int64"
      ]
     },
     "execution_count": 495,
     "metadata": {},
     "output_type": "execute_result"
    }
   ],
   "source": [
    "# K-means on unscaled data\n",
    "km = KMeans(n_clusters=4)\n",
    "km.fit(merged_history_and_scores_df)\n",
    "merged_history_and_scores_df['kmeans_3'] = [ \"cluster_\" + str(label) for label in km.labels_ ]\n",
    "merged_history_and_scores_df['kmeans_3'].value_counts()"
   ]
  }
 ],
 "metadata": {
  "kernelspec": {
   "display_name": "Python 3",
   "language": "python",
   "name": "python3"
  },
  "language_info": {
   "codemirror_mode": {
    "name": "ipython",
    "version": 3
   },
   "file_extension": ".py",
   "mimetype": "text/x-python",
   "name": "python",
   "nbconvert_exporter": "python",
   "pygments_lexer": "ipython3",
   "version": "3.6.1"
  }
 },
 "nbformat": 4,
 "nbformat_minor": 2
}
