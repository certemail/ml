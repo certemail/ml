{
 "cells": [
  {
   "cell_type": "code",
   "execution_count": 165,
   "metadata": {
    "collapsed": true
   },
   "outputs": [],
   "source": [
    "import pandas as pd\n",
    "import numpy as np"
   ]
  },
  {
   "cell_type": "code",
   "execution_count": 166,
   "metadata": {},
   "outputs": [
    {
     "name": "stdout",
     "output_type": "stream",
     "text": [
      "reading history matrix original dimensions:    (455, 34)\n",
      "assessment scores matrix original dimensions:  (453, 26)\n"
     ]
    }
   ],
   "source": [
    "DEBUG = False\n",
    "\n",
    "# read in both datasets\n",
    "reading_history_df   = pd.read_csv(\"data/db/reading_history_database.csv\")\n",
    "assessment_scores_df = pd.read_csv(\"data/db/screening_assessment_scores.csv\")\n",
    "print(\"reading history matrix original dimensions:   \", reading_history_df.shape)\n",
    "print(\"assessment scores matrix original dimensions: \", assessment_scores_df.shape)"
   ]
  },
  {
   "cell_type": "markdown",
   "metadata": {},
   "source": [
    "# pre-process reading_history database"
   ]
  },
  {
   "cell_type": "code",
   "execution_count": 167,
   "metadata": {
    "collapsed": true
   },
   "outputs": [],
   "source": [
    "# ----- shorten the column names for readability\n",
    "shortened_cols = [\"Q\"+str(q) for q in range(1,34)]\n",
    "shortened_cols.insert(0, \"Participant\")\n",
    "reading_history_df.columns = shortened_cols"
   ]
  },
  {
   "cell_type": "code",
   "execution_count": 168,
   "metadata": {
    "collapsed": true
   },
   "outputs": [],
   "source": [
    "# ------ delete irrelevant columns (comments entered by subjects)\n",
    "del reading_history_df['Q30']\n",
    "del reading_history_df['Q32']"
   ]
  },
  {
   "cell_type": "code",
   "execution_count": 169,
   "metadata": {
    "collapsed": true
   },
   "outputs": [],
   "source": [
    "# ------- remove all NULL rows\n",
    "reading_history_df = reading_history_df.dropna(axis=0, how='all')"
   ]
  },
  {
   "cell_type": "code",
   "execution_count": 170,
   "metadata": {},
   "outputs": [],
   "source": [
    "# ------- find and remove any duplicate keys ('Participant')    #df[~df.name.isin(value_list)]\n",
    "rd_h = reading_history_df['Participant'].value_counts()\n",
    "reading_history_duplicates = rd_h[rd_h > 1]\n",
    "if DEBUG: print(\"\\nreading_history duplicate keys:\")\n",
    "if DEBUG: print(reading_history_duplicates.sort_index())\n",
    "\n",
    "duplicate_participants_to_remove = reading_history_duplicates.index.tolist()\n",
    "reading_history_df = reading_history_df[~reading_history_df.Participant.isin(duplicate_participants_to_remove)]"
   ]
  },
  {
   "cell_type": "code",
   "execution_count": 171,
   "metadata": {
    "collapsed": true
   },
   "outputs": [],
   "source": [
    "# ------- remove row that has 'Participant' number as \"INCOMPLETE\"\n",
    "reading_history_df = reading_history_df[~reading_history_df.Participant.isin(['INCOMPLETE'])]"
   ]
  },
  {
   "cell_type": "code",
   "execution_count": 172,
   "metadata": {
    "collapsed": true
   },
   "outputs": [],
   "source": [
    "# ------- Q26 cleanup ( fill in NULL values)"
   ]
  },
  {
   "cell_type": "code",
   "execution_count": 173,
   "metadata": {
    "collapsed": true
   },
   "outputs": [],
   "source": [
    "# ------- Q27 cleanup (fill in NULL values)"
   ]
  },
  {
   "cell_type": "code",
   "execution_count": 174,
   "metadata": {
    "collapsed": true
   },
   "outputs": [],
   "source": [
    "# ------- Q28 cleanup (fill in NULL values)"
   ]
  },
  {
   "cell_type": "code",
   "execution_count": 175,
   "metadata": {},
   "outputs": [
    {
     "name": "stdout",
     "output_type": "stream",
     "text": [
      "pre-processed reading history matrix dimensions:  (433, 32)\n"
     ]
    }
   ],
   "source": [
    "# ------- Q29 cleanup (make all lowercase and strip whitespace)\n",
    "if DEBUG: print(\"BEFORE:\")\n",
    "if DEBUG: print(\"all possible values in Q29: \", reading_history_df.Q29.unique())\n",
    "if DEBUG: print(\"value counts: \\n\", reading_history_df.Q29.value_counts())\n",
    "\n",
    "if DEBUG: print(\"\\nAFTER:\")\n",
    "reading_history_df['Q29'] = reading_history_df['Q29'].apply(lambda x: x.lower().strip())\n",
    "\n",
    "def add_underscore_to_not_sure(x):\n",
    "    if x == 'not sure':\n",
    "        return('not_sure')\n",
    "    else:\n",
    "        return(x)\n",
    "reading_history_df['Q29'] = reading_history_df['Q29'].apply(add_underscore_to_not_sure) \n",
    "if DEBUG: print(\"all possible values in Q29: \", reading_history_df.Q29.unique())\n",
    "if DEBUG: print(\"value counts: \\n\", reading_history_df.Q29.value_counts())\n",
    "\n",
    "# create dummy set\n",
    "new_Q29 = pd.get_dummies(reading_history_df['Q29'], prefix='Q29')\n",
    "\n",
    "print(\"pre-processed reading history matrix dimensions: \", reading_history_df.shape)\n",
    "if DEBUG: print(\"\\nNULL values: \\n\", reading_history_df.isnull().sum())\n"
   ]
  },
  {
   "cell_type": "code",
   "execution_count": 176,
   "metadata": {},
   "outputs": [],
   "source": [
    "# ------- Q31 cleanup (make all lowercase and strip whitespace)\n",
    "\n",
    "# fill in NULL value with most frequent\n",
    "most_frequent_value_in_Q31 = reading_history_df['Q31'].value_counts().index[0]\n",
    "reading_history_df.Q31.fillna(most_frequent_value_in_Q31, inplace=True)\n",
    "\n",
    "if DEBUG: print(\"NULL values: \\n\", reading_history_df.isnull().sum())\n",
    "\n",
    "# lower case and strip whitespace\n",
    "reading_history_df['Q31'] = reading_history_df['Q31'].apply(lambda x: x.lower().strip())"
   ]
  },
  {
   "cell_type": "code",
   "execution_count": 177,
   "metadata": {
    "collapsed": true
   },
   "outputs": [],
   "source": [
    "# ------- Q33 cleanup"
   ]
  },
  {
   "cell_type": "code",
   "execution_count": 178,
   "metadata": {},
   "outputs": [],
   "source": [
    "#reading_history_df.head(50)"
   ]
  },
  {
   "cell_type": "markdown",
   "metadata": {},
   "source": [
    "# pre-process assessment_scores"
   ]
  },
  {
   "cell_type": "code",
   "execution_count": 179,
   "metadata": {},
   "outputs": [
    {
     "name": "stdout",
     "output_type": "stream",
     "text": [
      "\n",
      "assesment_scores duplicate keys:\n",
      "1161    2\n",
      "2019    2\n",
      "2234    2\n",
      "4744    2\n",
      "5343    2\n",
      "5559    2\n",
      "6970    2\n",
      "7806    2\n",
      "9010    2\n",
      "9379    2\n",
      "Name: Participant Number, dtype: int64\n"
     ]
    }
   ],
   "source": [
    "# pre-process assessment_scores\n",
    "as_s = assessment_scores_df['Participant Number'].value_counts()\n",
    "as_s = as_s[as_s > 1]\n",
    "\n",
    "print(\"\\nassesment_scores duplicate keys:\")\n",
    "print(as_s.sort_index())\n",
    "\n",
    "assessment_scores_df.rename(columns={ assessment_scores_df.columns[0]: \"Participant\" }, inplace=True)"
   ]
  },
  {
   "cell_type": "code",
   "execution_count": 180,
   "metadata": {},
   "outputs": [],
   "source": [
    "# merge 2 databases on 'Participant' as key into one\n",
    "merged_history_and_scores = pd.merge(reading_history_df, assessment_scores_df, how='inner', on='Participant')"
   ]
  },
  {
   "cell_type": "code",
   "execution_count": 181,
   "metadata": {},
   "outputs": [
    {
     "name": "stdout",
     "output_type": "stream",
     "text": [
      "merged history and scores dimensions:  (425, 56)\n"
     ]
    }
   ],
   "source": [
    "# reset 'Participant' as the index\n",
    "merged_history_and_scores.set_index('Participant', inplace=True)\n",
    "print(\"merged history and scores dimensions: \", merged_history_and_scores.shape)"
   ]
  },
  {
   "cell_type": "code",
   "execution_count": 182,
   "metadata": {
    "collapsed": true
   },
   "outputs": [],
   "source": [
    "# drop rows where all of the elements are NaN \n",
    "merged_history_and_scores = merged_history_and_scores.dropna(axis=0, how='all')\n",
    "#print(\"Number of missing values (NaN) by column:\")\n",
    "#print(merged_history_and_scores.isnull().sum())\n",
    "#print(\"\\nDimensions after dropping empty rows:\", merged_history_and_scores.shape)"
   ]
  },
  {
   "cell_type": "code",
   "execution_count": null,
   "metadata": {},
   "outputs": [],
   "source": [
    "\n"
   ]
  },
  {
   "cell_type": "code",
   "execution_count": 183,
   "metadata": {
    "collapsed": true
   },
   "outputs": [],
   "source": [
    "# Q31 cleanup: as unordered (yes, no, not sure)"
   ]
  },
  {
   "cell_type": "code",
   "execution_count": 184,
   "metadata": {
    "collapsed": true
   },
   "outputs": [],
   "source": [
    "# Q33 cleanup: as ordered categories (\"some college, etc.\")\n",
    "#print(\"all possible values in Q33: \")\n",
    "#merged_history_and_scores.Q33.value_counts()"
   ]
  }
 ],
 "metadata": {
  "kernelspec": {
   "display_name": "Python 3",
   "language": "python",
   "name": "python3"
  },
  "language_info": {
   "codemirror_mode": {
    "name": "ipython",
    "version": 3
   },
   "file_extension": ".py",
   "mimetype": "text/x-python",
   "name": "python",
   "nbconvert_exporter": "python",
   "pygments_lexer": "ipython3",
   "version": "3.6.1"
  }
 },
 "nbformat": 4,
 "nbformat_minor": 2
}
