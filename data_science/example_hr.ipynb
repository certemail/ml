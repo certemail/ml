{
 "cells": [
  {
   "cell_type": "code",
   "execution_count": 1,
   "metadata": {
    "collapsed": true
   },
   "outputs": [],
   "source": [
    "import pandas as pd\n",
    "import numpy as np"
   ]
  },
  {
   "cell_type": "code",
   "execution_count": 2,
   "metadata": {
    "collapsed": true
   },
   "outputs": [],
   "source": [
    "hr_data = pd.read_csv(\"human_resources.dat\")"
   ]
  },
  {
   "cell_type": "code",
   "execution_count": 3,
   "metadata": {
    "scrolled": true
   },
   "outputs": [
    {
     "data": {
      "text/html": [
       "<div>\n",
       "<style>\n",
       "    .dataframe thead tr:only-child th {\n",
       "        text-align: right;\n",
       "    }\n",
       "\n",
       "    .dataframe thead th {\n",
       "        text-align: left;\n",
       "    }\n",
       "\n",
       "    .dataframe tbody tr th {\n",
       "        vertical-align: top;\n",
       "    }\n",
       "</style>\n",
       "<table border=\"1\" class=\"dataframe\">\n",
       "  <thead>\n",
       "    <tr style=\"text-align: right;\">\n",
       "      <th></th>\n",
       "      <th>name</th>\n",
       "      <th>gender</th>\n",
       "      <th>years_in_service</th>\n",
       "      <th>salary</th>\n",
       "      <th>position</th>\n",
       "    </tr>\n",
       "  </thead>\n",
       "  <tbody>\n",
       "    <tr>\n",
       "      <th>0</th>\n",
       "      <td>Alice</td>\n",
       "      <td>female</td>\n",
       "      <td>6</td>\n",
       "      <td>75000</td>\n",
       "      <td>Program Manager</td>\n",
       "    </tr>\n",
       "    <tr>\n",
       "      <th>1</th>\n",
       "      <td>Bob</td>\n",
       "      <td>male</td>\n",
       "      <td>14</td>\n",
       "      <td>45000</td>\n",
       "      <td>Help Desk</td>\n",
       "    </tr>\n",
       "    <tr>\n",
       "      <th>2</th>\n",
       "      <td>David</td>\n",
       "      <td>male</td>\n",
       "      <td>10</td>\n",
       "      <td>60500</td>\n",
       "      <td>Clerk</td>\n",
       "    </tr>\n",
       "    <tr>\n",
       "      <th>3</th>\n",
       "      <td>Harold</td>\n",
       "      <td>male</td>\n",
       "      <td>5</td>\n",
       "      <td>34000</td>\n",
       "      <td>Help Desk</td>\n",
       "    </tr>\n",
       "    <tr>\n",
       "      <th>4</th>\n",
       "      <td>Lisa</td>\n",
       "      <td>female</td>\n",
       "      <td>17</td>\n",
       "      <td>90000</td>\n",
       "      <td>Senior Data Scientist</td>\n",
       "    </tr>\n",
       "    <tr>\n",
       "      <th>5</th>\n",
       "      <td>Misha</td>\n",
       "      <td>female</td>\n",
       "      <td>29</td>\n",
       "      <td>95000</td>\n",
       "      <td>Chief Data Scientist</td>\n",
       "    </tr>\n",
       "    <tr>\n",
       "      <th>6</th>\n",
       "      <td>Tom</td>\n",
       "      <td>male</td>\n",
       "      <td>20</td>\n",
       "      <td>88000</td>\n",
       "      <td>Senior Data Scientist</td>\n",
       "    </tr>\n",
       "    <tr>\n",
       "      <th>7</th>\n",
       "      <td>Bernie</td>\n",
       "      <td>male</td>\n",
       "      <td>13</td>\n",
       "      <td>48000</td>\n",
       "      <td>Clerk</td>\n",
       "    </tr>\n",
       "    <tr>\n",
       "      <th>8</th>\n",
       "      <td>Margaret</td>\n",
       "      <td>female</td>\n",
       "      <td>23</td>\n",
       "      <td>100000</td>\n",
       "      <td>CEO</td>\n",
       "    </tr>\n",
       "    <tr>\n",
       "      <th>9</th>\n",
       "      <td>Billy</td>\n",
       "      <td>male</td>\n",
       "      <td>8</td>\n",
       "      <td>50000</td>\n",
       "      <td>Clerk</td>\n",
       "    </tr>\n",
       "  </tbody>\n",
       "</table>\n",
       "</div>"
      ],
      "text/plain": [
       "       name  gender  years_in_service  salary               position\n",
       "0     Alice  female                 6   75000        Program Manager\n",
       "1       Bob    male                14   45000           Help Desk   \n",
       "2     David    male                10   60500                  Clerk\n",
       "3    Harold    male                 5   34000              Help Desk\n",
       "4      Lisa  female                17   90000  Senior Data Scientist\n",
       "5     Misha  female                29   95000   Chief Data Scientist\n",
       "6       Tom    male                20   88000  Senior Data Scientist\n",
       "7    Bernie    male                13   48000                  Clerk\n",
       "8  Margaret  female                23  100000                    CEO\n",
       "9     Billy    male                 8   50000                  Clerk"
      ]
     },
     "execution_count": 3,
     "metadata": {},
     "output_type": "execute_result"
    }
   ],
   "source": [
    "hr_data"
   ]
  },
  {
   "cell_type": "code",
   "execution_count": 4,
   "metadata": {},
   "outputs": [
    {
     "data": {
      "text/html": [
       "<div>\n",
       "<style>\n",
       "    .dataframe thead tr:only-child th {\n",
       "        text-align: right;\n",
       "    }\n",
       "\n",
       "    .dataframe thead th {\n",
       "        text-align: left;\n",
       "    }\n",
       "\n",
       "    .dataframe tbody tr th {\n",
       "        vertical-align: top;\n",
       "    }\n",
       "</style>\n",
       "<table border=\"1\" class=\"dataframe\">\n",
       "  <thead>\n",
       "    <tr style=\"text-align: right;\">\n",
       "      <th></th>\n",
       "      <th>name</th>\n",
       "      <th>gender</th>\n",
       "      <th>years_in_service</th>\n",
       "      <th>salary</th>\n",
       "      <th>position</th>\n",
       "    </tr>\n",
       "  </thead>\n",
       "  <tbody>\n",
       "    <tr>\n",
       "      <th>8</th>\n",
       "      <td>Margaret</td>\n",
       "      <td>female</td>\n",
       "      <td>23</td>\n",
       "      <td>100000</td>\n",
       "      <td>CEO</td>\n",
       "    </tr>\n",
       "    <tr>\n",
       "      <th>5</th>\n",
       "      <td>Misha</td>\n",
       "      <td>female</td>\n",
       "      <td>29</td>\n",
       "      <td>95000</td>\n",
       "      <td>Chief Data Scientist</td>\n",
       "    </tr>\n",
       "    <tr>\n",
       "      <th>4</th>\n",
       "      <td>Lisa</td>\n",
       "      <td>female</td>\n",
       "      <td>17</td>\n",
       "      <td>90000</td>\n",
       "      <td>Senior Data Scientist</td>\n",
       "    </tr>\n",
       "    <tr>\n",
       "      <th>6</th>\n",
       "      <td>Tom</td>\n",
       "      <td>male</td>\n",
       "      <td>20</td>\n",
       "      <td>88000</td>\n",
       "      <td>Senior Data Scientist</td>\n",
       "    </tr>\n",
       "    <tr>\n",
       "      <th>0</th>\n",
       "      <td>Alice</td>\n",
       "      <td>female</td>\n",
       "      <td>6</td>\n",
       "      <td>75000</td>\n",
       "      <td>Program Manager</td>\n",
       "    </tr>\n",
       "    <tr>\n",
       "      <th>2</th>\n",
       "      <td>David</td>\n",
       "      <td>male</td>\n",
       "      <td>10</td>\n",
       "      <td>60500</td>\n",
       "      <td>Clerk</td>\n",
       "    </tr>\n",
       "    <tr>\n",
       "      <th>9</th>\n",
       "      <td>Billy</td>\n",
       "      <td>male</td>\n",
       "      <td>8</td>\n",
       "      <td>50000</td>\n",
       "      <td>Clerk</td>\n",
       "    </tr>\n",
       "    <tr>\n",
       "      <th>7</th>\n",
       "      <td>Bernie</td>\n",
       "      <td>male</td>\n",
       "      <td>13</td>\n",
       "      <td>48000</td>\n",
       "      <td>Clerk</td>\n",
       "    </tr>\n",
       "    <tr>\n",
       "      <th>1</th>\n",
       "      <td>Bob</td>\n",
       "      <td>male</td>\n",
       "      <td>14</td>\n",
       "      <td>45000</td>\n",
       "      <td>Help Desk</td>\n",
       "    </tr>\n",
       "    <tr>\n",
       "      <th>3</th>\n",
       "      <td>Harold</td>\n",
       "      <td>male</td>\n",
       "      <td>5</td>\n",
       "      <td>34000</td>\n",
       "      <td>Help Desk</td>\n",
       "    </tr>\n",
       "  </tbody>\n",
       "</table>\n",
       "</div>"
      ],
      "text/plain": [
       "       name  gender  years_in_service  salary               position\n",
       "8  Margaret  female                23  100000                    CEO\n",
       "5     Misha  female                29   95000   Chief Data Scientist\n",
       "4      Lisa  female                17   90000  Senior Data Scientist\n",
       "6       Tom    male                20   88000  Senior Data Scientist\n",
       "0     Alice  female                 6   75000        Program Manager\n",
       "2     David    male                10   60500                  Clerk\n",
       "9     Billy    male                 8   50000                  Clerk\n",
       "7    Bernie    male                13   48000                  Clerk\n",
       "1       Bob    male                14   45000           Help Desk   \n",
       "3    Harold    male                 5   34000              Help Desk"
      ]
     },
     "execution_count": 4,
     "metadata": {},
     "output_type": "execute_result"
    }
   ],
   "source": [
    "# sort by salary so easier to view\n",
    "hr_data.sort_values('salary', ascending=False)"
   ]
  },
  {
   "cell_type": "code",
   "execution_count": 5,
   "metadata": {},
   "outputs": [
    {
     "data": {
      "text/plain": [
       "[('female',\n",
       "         name  gender  years_in_service  salary               position\n",
       "  0     Alice  female                 6   75000        Program Manager\n",
       "  4      Lisa  female                17   90000  Senior Data Scientist\n",
       "  5     Misha  female                29   95000   Chief Data Scientist\n",
       "  8  Margaret  female                23  100000                    CEO),\n",
       " ('male',      name gender  years_in_service  salary               position\n",
       "  1     Bob   male                14   45000           Help Desk   \n",
       "  2   David   male                10   60500                  Clerk\n",
       "  3  Harold   male                 5   34000              Help Desk\n",
       "  6     Tom   male                20   88000  Senior Data Scientist\n",
       "  7  Bernie   male                13   48000                  Clerk\n",
       "  9   Billy   male                 8   50000                  Clerk)]"
      ]
     },
     "execution_count": 5,
     "metadata": {},
     "output_type": "execute_result"
    }
   ],
   "source": [
    "genderGroup = hr_data.groupby('gender')\n",
    "list(genderGroup)"
   ]
  },
  {
   "cell_type": "code",
   "execution_count": 6,
   "metadata": {},
   "outputs": [
    {
     "name": "stdout",
     "output_type": "stream",
     "text": [
      "filtering using query:\n",
      "     name gender  years_in_service  salary      position\n",
      "1     Bob   male                14   45000  Help Desk   \n",
      "7  Bernie   male                13   48000         Clerk\n",
      "filtering using indices:\n",
      "     name gender  years_in_service  salary      position\n",
      "1     Bob   male                14   45000  Help Desk   \n",
      "7  Bernie   male                13   48000         Clerk\n"
     ]
    }
   ],
   "source": [
    "# get all males that make under 50K with greater than 10 years in service\n",
    "print(\"filtering using query:\")\n",
    "males_df = genderGroup.get_group('male')\n",
    "males_under_50K = males_df.query('salary < 50000 & years_in_service > 10')\n",
    "print(males_under_50K)\n",
    "\n",
    "print(\"filtering using indices:\")\n",
    "males_under_50K = hr_data[(hr_data.salary < 50000) & \n",
    "                          (hr_data.gender=='male') &  \n",
    "                          (hr_data.years_in_service > 10)]\n",
    "print(males_under_50K)\n",
    "\n"
   ]
  },
  {
   "cell_type": "code",
   "execution_count": 7,
   "metadata": {},
   "outputs": [
    {
     "name": "stdout",
     "output_type": "stream",
     "text": [
      "Index of clerk with highest salary:  2\n",
      "Name of clerk:  David\n",
      "Salary of highes paid clerk:  60500\n"
     ]
    }
   ],
   "source": [
    "# which cleark makes the highest salary?\n",
    "positionGroup = hr_data.groupby('position')\n",
    "index_of_clerk = positionGroup.get_group('Clerk').salary.idxmax()\n",
    "print(\"Index of clerk with highest salary: \", index_of_clerk )\n",
    "print(\"Name of clerk: \", hr_data.loc[index_of_clerk]['name'] )\n",
    "print(\"Salary of highes paid clerk: \", hr_data.loc[index_of_clerk]['salary'])\n"
   ]
  },
  {
   "cell_type": "code",
   "execution_count": 8,
   "metadata": {},
   "outputs": [
    {
     "name": "stdout",
     "output_type": "stream",
     "text": [
      "Total number of clerks:  3\n"
     ]
    }
   ],
   "source": [
    "# how many clerks are there?\n",
    "groupByPosition = hr_data.groupby('position')\n",
    "num_clerks = groupByPosition.get_group('Clerk').shape[0]  # shape returns a tuple (row, column)\n",
    "print(\"Total number of clerks: \", num_clerks)"
   ]
  }
 ],
 "metadata": {
  "kernelspec": {
   "display_name": "Python 3",
   "language": "python",
   "name": "python3"
  },
  "language_info": {
   "codemirror_mode": {
    "name": "ipython",
    "version": 3
   },
   "file_extension": ".py",
   "mimetype": "text/x-python",
   "name": "python",
   "nbconvert_exporter": "python",
   "pygments_lexer": "ipython3",
   "version": "3.6.1"
  }
 },
 "nbformat": 4,
 "nbformat_minor": 2
}
